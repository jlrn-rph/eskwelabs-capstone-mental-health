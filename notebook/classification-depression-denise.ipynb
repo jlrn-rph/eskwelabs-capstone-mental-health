{
 "cells": [
  {
   "cell_type": "code",
   "execution_count": 36,
   "id": "f284ac69-7005-4878-8c5a-c78bf533bcd3",
   "metadata": {},
   "outputs": [],
   "source": [
    "import re\n",
    "import time\n",
    "import json\n",
    "import pickle\n",
    "import warnings\n",
    "import numpy as np\n",
    "import pandas as pd\n",
    "from tqdm.notebook import tqdm\n",
    "from collections import Counter\n",
    "\n",
    "import emoji\n",
    "\n",
    "\n",
    "# Visualizations\n",
    "import seaborn as sns\n",
    "from termcolor import colored\n",
    "import matplotlib.pyplot as plt\n",
    "import plotly.graph_objects as go\n",
    "\n",
    "\n",
    "# Sklearn\n",
    "from xgboost import XGBClassifier\n",
    "from sklearn.ensemble import AdaBoostClassifier\n",
    "from sklearn.feature_extraction.text import TfidfVectorizer\n",
    "from sklearn.feature_selection import RFECV\n",
    "\n",
    "from sklearn.preprocessing import MinMaxScaler\n",
    "from sklearn.preprocessing import StandardScaler\n",
    "\n",
    "from sklearn.model_selection import (train_test_split, GridSearchCV, KFold,\n",
    "                                     StratifiedKFold, cross_validate, cross_val_score)\n",
    "from sklearn.neighbors import KNeighborsClassifier\n",
    "from sklearn.svm import SVC\n",
    "from sklearn.linear_model import LogisticRegression\n",
    "from sklearn.naive_bayes import GaussianNB\n",
    "from sklearn.tree import DecisionTreeClassifier\n",
    "from sklearn.ensemble import (RandomForestClassifier,  \n",
    "                              GradientBoostingClassifier)\n",
    "from sklearn.model_selection import cross_validate\n",
    "from sklearn.metrics import (classification_report, confusion_matrix, ConfusionMatrixDisplay, precision_score, recall_score, f1_score)\n",
    "\n",
    "# Imblearn\n",
    "from imblearn.pipeline import Pipeline, make_pipeline\n",
    "from imblearn.over_sampling import (SMOTE, ADASYN, BorderlineSMOTE, SVMSMOTE)\n",
    "from imblearn.under_sampling import (TomekLinks, NearMiss, AllKNN,\n",
    "                                     EditedNearestNeighbours, \n",
    "                                     RepeatedEditedNearestNeighbours) \n",
    "from imblearn.combine import SMOTETomek, SMOTEENN\n",
    "\n",
    "# Explainer\n",
    "import lime\n",
    "import shap\n",
    "\n",
    "#pkl\n",
    "import joblib\n",
    "\n",
    "\n",
    "\n"
   ]
  },
  {
   "attachments": {},
   "cell_type": "markdown",
   "id": "5df2f17f",
   "metadata": {},
   "source": [
    "## Positive Class: r/depression Posts"
   ]
  },
  {
   "cell_type": "code",
   "execution_count": 2,
   "id": "76b213b9-07c6-440a-883c-177fe3baf6f4",
   "metadata": {},
   "outputs": [
    {
     "data": {
      "text/html": [
       "<div>\n",
       "<style scoped>\n",
       "    .dataframe tbody tr th:only-of-type {\n",
       "        vertical-align: middle;\n",
       "    }\n",
       "\n",
       "    .dataframe tbody tr th {\n",
       "        vertical-align: top;\n",
       "    }\n",
       "\n",
       "    .dataframe thead th {\n",
       "        text-align: right;\n",
       "    }\n",
       "</style>\n",
       "<table border=\"1\" class=\"dataframe\">\n",
       "  <thead>\n",
       "    <tr style=\"text-align: right;\">\n",
       "      <th></th>\n",
       "      <th>title</th>\n",
       "      <th>num_comments</th>\n",
       "      <th>text</th>\n",
       "      <th>id</th>\n",
       "      <th>author</th>\n",
       "      <th>created_utc</th>\n",
       "      <th>score</th>\n",
       "      <th>upvote_ratio</th>\n",
       "      <th>url</th>\n",
       "      <th>flair</th>\n",
       "      <th>disorder</th>\n",
       "      <th>text_data</th>\n",
       "      <th>date_raw</th>\n",
       "      <th>date</th>\n",
       "    </tr>\n",
       "  </thead>\n",
       "  <tbody>\n",
       "    <tr>\n",
       "      <th>0</th>\n",
       "      <td>Im calling it</td>\n",
       "      <td>0</td>\n",
       "      <td>Its alot more complicated but esntially i have...</td>\n",
       "      <td>13wan0q</td>\n",
       "      <td>HemloknessMonster</td>\n",
       "      <td>1.685503e+09</td>\n",
       "      <td>1</td>\n",
       "      <td>1.0</td>\n",
       "      <td>https://www.reddit.com/r/depression/comments/1...</td>\n",
       "      <td>NaN</td>\n",
       "      <td>Depression</td>\n",
       "      <td>Im calling it Its alot more complicated but es...</td>\n",
       "      <td>2023-05-31 03:10:53</td>\n",
       "      <td>2023-05-31</td>\n",
       "    </tr>\n",
       "    <tr>\n",
       "      <th>1</th>\n",
       "      <td>I’m worried depressed partner is staying with ...</td>\n",
       "      <td>0</td>\n",
       "      <td>Every time something stressful comes up he tri...</td>\n",
       "      <td>13wam26</td>\n",
       "      <td>owmyankles</td>\n",
       "      <td>1.685503e+09</td>\n",
       "      <td>1</td>\n",
       "      <td>1.0</td>\n",
       "      <td>https://www.reddit.com/r/depression/comments/1...</td>\n",
       "      <td>NaN</td>\n",
       "      <td>Depression</td>\n",
       "      <td>I’m worried depressed partner is staying with ...</td>\n",
       "      <td>2023-05-31 03:09:37</td>\n",
       "      <td>2023-05-31</td>\n",
       "    </tr>\n",
       "    <tr>\n",
       "      <th>2</th>\n",
       "      <td>killing myself tomorrow</td>\n",
       "      <td>3</td>\n",
       "      <td>I really am fucking done. People suck, I hate ...</td>\n",
       "      <td>13waejs</td>\n",
       "      <td>dogtemple3</td>\n",
       "      <td>1.685502e+09</td>\n",
       "      <td>2</td>\n",
       "      <td>1.0</td>\n",
       "      <td>https://www.reddit.com/r/depression/comments/1...</td>\n",
       "      <td>NaN</td>\n",
       "      <td>Depression</td>\n",
       "      <td>killing myself tomorrow I really am fucking do...</td>\n",
       "      <td>2023-05-31 03:00:06</td>\n",
       "      <td>2023-05-31</td>\n",
       "    </tr>\n",
       "    <tr>\n",
       "      <th>3</th>\n",
       "      <td>Don’t have too many good memories</td>\n",
       "      <td>0</td>\n",
       "      <td>Hello,\\n\\nI’m 26 and I’m sitting here kinda sa...</td>\n",
       "      <td>13wad8o</td>\n",
       "      <td>Rich_Construction_85</td>\n",
       "      <td>1.685502e+09</td>\n",
       "      <td>1</td>\n",
       "      <td>1.0</td>\n",
       "      <td>https://www.reddit.com/r/depression/comments/1...</td>\n",
       "      <td>NaN</td>\n",
       "      <td>Depression</td>\n",
       "      <td>Don’t have too many good memories Hello,\\n\\nI’...</td>\n",
       "      <td>2023-05-31 02:58:24</td>\n",
       "      <td>2023-05-31</td>\n",
       "    </tr>\n",
       "    <tr>\n",
       "      <th>4</th>\n",
       "      <td>On a string or something</td>\n",
       "      <td>0</td>\n",
       "      <td>\"I need to put us on hold.\"\\r  \\nHe said that ...</td>\n",
       "      <td>13wa9cq</td>\n",
       "      <td>A10p99</td>\n",
       "      <td>1.685502e+09</td>\n",
       "      <td>1</td>\n",
       "      <td>1.0</td>\n",
       "      <td>https://www.reddit.com/r/depression/comments/1...</td>\n",
       "      <td>NaN</td>\n",
       "      <td>Depression</td>\n",
       "      <td>On a string or something \"I need to put us on ...</td>\n",
       "      <td>2023-05-31 02:53:08</td>\n",
       "      <td>2023-05-31</td>\n",
       "    </tr>\n",
       "  </tbody>\n",
       "</table>\n",
       "</div>"
      ],
      "text/plain": [
       "                                               title  num_comments  \\\n",
       "0                                      Im calling it             0   \n",
       "1  I’m worried depressed partner is staying with ...             0   \n",
       "2                            killing myself tomorrow             3   \n",
       "3                  Don’t have too many good memories             0   \n",
       "4                           On a string or something             0   \n",
       "\n",
       "                                                text       id  \\\n",
       "0  Its alot more complicated but esntially i have...  13wan0q   \n",
       "1  Every time something stressful comes up he tri...  13wam26   \n",
       "2  I really am fucking done. People suck, I hate ...  13waejs   \n",
       "3  Hello,\\n\\nI’m 26 and I’m sitting here kinda sa...  13wad8o   \n",
       "4  \"I need to put us on hold.\"\\r  \\nHe said that ...  13wa9cq   \n",
       "\n",
       "                 author   created_utc  score  upvote_ratio  \\\n",
       "0     HemloknessMonster  1.685503e+09      1           1.0   \n",
       "1            owmyankles  1.685503e+09      1           1.0   \n",
       "2            dogtemple3  1.685502e+09      2           1.0   \n",
       "3  Rich_Construction_85  1.685502e+09      1           1.0   \n",
       "4                A10p99  1.685502e+09      1           1.0   \n",
       "\n",
       "                                                 url  flair    disorder  \\\n",
       "0  https://www.reddit.com/r/depression/comments/1...    NaN  Depression   \n",
       "1  https://www.reddit.com/r/depression/comments/1...    NaN  Depression   \n",
       "2  https://www.reddit.com/r/depression/comments/1...    NaN  Depression   \n",
       "3  https://www.reddit.com/r/depression/comments/1...    NaN  Depression   \n",
       "4  https://www.reddit.com/r/depression/comments/1...    NaN  Depression   \n",
       "\n",
       "                                           text_data            date_raw  \\\n",
       "0  Im calling it Its alot more complicated but es... 2023-05-31 03:10:53   \n",
       "1  I’m worried depressed partner is staying with ... 2023-05-31 03:09:37   \n",
       "2  killing myself tomorrow I really am fucking do... 2023-05-31 03:00:06   \n",
       "3  Don’t have too many good memories Hello,\\n\\nI’... 2023-05-31 02:58:24   \n",
       "4  On a string or something \"I need to put us on ... 2023-05-31 02:53:08   \n",
       "\n",
       "         date  \n",
       "0  2023-05-31  \n",
       "1  2023-05-31  \n",
       "2  2023-05-31  \n",
       "3  2023-05-31  \n",
       "4  2023-05-31  "
      ]
     },
     "execution_count": 2,
     "metadata": {},
     "output_type": "execute_result"
    }
   ],
   "source": [
    "#Load submissions data\n",
    "df_pos = pd.read_csv('data/Depression.csv')\n",
    "df_pos['text_data'] = df_pos['title'].fillna('') + ' ' + df_pos['text'].fillna('')\n",
    "df_pos['date_raw'] = pd.to_datetime(df_pos['created_utc'], unit='s')\n",
    "df_pos['date'] = df_pos['date_raw'].dt.date\n",
    "df_pos.head()"
   ]
  },
  {
   "cell_type": "code",
   "execution_count": 3,
   "id": "4e37141a",
   "metadata": {},
   "outputs": [
    {
     "data": {
      "text/plain": [
       "(1971, 14)"
      ]
     },
     "execution_count": 3,
     "metadata": {},
     "output_type": "execute_result"
    }
   ],
   "source": [
    "df_pos.shape"
   ]
  },
  {
   "cell_type": "code",
   "execution_count": 4,
   "id": "d193c9c4-722d-4180-b241-06ff7fe32a44",
   "metadata": {},
   "outputs": [
    {
     "data": {
      "text/html": [
       "<div>\n",
       "<style scoped>\n",
       "    .dataframe tbody tr th:only-of-type {\n",
       "        vertical-align: middle;\n",
       "    }\n",
       "\n",
       "    .dataframe tbody tr th {\n",
       "        vertical-align: top;\n",
       "    }\n",
       "\n",
       "    .dataframe thead th {\n",
       "        text-align: right;\n",
       "    }\n",
       "</style>\n",
       "<table border=\"1\" class=\"dataframe\">\n",
       "  <thead>\n",
       "    <tr style=\"text-align: right;\">\n",
       "      <th></th>\n",
       "      <th>date</th>\n",
       "      <th>id</th>\n",
       "      <th>text_data</th>\n",
       "      <th>Depression Risk</th>\n",
       "    </tr>\n",
       "  </thead>\n",
       "  <tbody>\n",
       "    <tr>\n",
       "      <th>0</th>\n",
       "      <td>2023-05-31</td>\n",
       "      <td>13wan0q</td>\n",
       "      <td>Im calling it Its alot more complicated but es...</td>\n",
       "      <td>True</td>\n",
       "    </tr>\n",
       "    <tr>\n",
       "      <th>1</th>\n",
       "      <td>2023-05-31</td>\n",
       "      <td>13wam26</td>\n",
       "      <td>I’m worried depressed partner is staying with ...</td>\n",
       "      <td>True</td>\n",
       "    </tr>\n",
       "    <tr>\n",
       "      <th>2</th>\n",
       "      <td>2023-05-31</td>\n",
       "      <td>13waejs</td>\n",
       "      <td>killing myself tomorrow I really am fucking do...</td>\n",
       "      <td>True</td>\n",
       "    </tr>\n",
       "    <tr>\n",
       "      <th>3</th>\n",
       "      <td>2023-05-31</td>\n",
       "      <td>13wad8o</td>\n",
       "      <td>Don’t have too many good memories Hello,\\n\\nI’...</td>\n",
       "      <td>True</td>\n",
       "    </tr>\n",
       "    <tr>\n",
       "      <th>4</th>\n",
       "      <td>2023-05-31</td>\n",
       "      <td>13wa9cq</td>\n",
       "      <td>On a string or something \"I need to put us on ...</td>\n",
       "      <td>True</td>\n",
       "    </tr>\n",
       "  </tbody>\n",
       "</table>\n",
       "</div>"
      ],
      "text/plain": [
       "         date       id                                          text_data  \\\n",
       "0  2023-05-31  13wan0q  Im calling it Its alot more complicated but es...   \n",
       "1  2023-05-31  13wam26  I’m worried depressed partner is staying with ...   \n",
       "2  2023-05-31  13waejs  killing myself tomorrow I really am fucking do...   \n",
       "3  2023-05-31  13wad8o  Don’t have too many good memories Hello,\\n\\nI’...   \n",
       "4  2023-05-31  13wa9cq  On a string or something \"I need to put us on ...   \n",
       "\n",
       "   Depression Risk  \n",
       "0             True  \n",
       "1             True  \n",
       "2             True  \n",
       "3             True  \n",
       "4             True  "
      ]
     },
     "execution_count": 4,
     "metadata": {},
     "output_type": "execute_result"
    }
   ],
   "source": [
    "#Filter columns\n",
    "df_pos = df_pos[['date', 'id','text_data']]\n",
    "df_pos['Depression Risk'] = True\n",
    "df_pos.head()"
   ]
  },
  {
   "cell_type": "code",
   "execution_count": 5,
   "id": "da12c004",
   "metadata": {},
   "outputs": [],
   "source": [
    "# remove random rows from r/depression so that the data would be balanced\n",
    "\n",
    "remove_n = 1971-1956\n",
    "drop_indices = np.random.choice(df_pos.index, remove_n, replace=False)\n",
    "df_pos = df_pos.drop(drop_indices)"
   ]
  },
  {
   "cell_type": "code",
   "execution_count": 6,
   "id": "5878ac8a",
   "metadata": {},
   "outputs": [
    {
     "data": {
      "text/plain": [
       "1956"
      ]
     },
     "execution_count": 6,
     "metadata": {},
     "output_type": "execute_result"
    }
   ],
   "source": [
    "# postive class is now equal to negative class\n",
    "\n",
    "df_pos.shape[0]"
   ]
  },
  {
   "attachments": {},
   "cell_type": "markdown",
   "id": "68b13d6b",
   "metadata": {},
   "source": [
    "## Negative Class: r/randomthoughts posts"
   ]
  },
  {
   "cell_type": "code",
   "execution_count": 7,
   "id": "1bf31747",
   "metadata": {},
   "outputs": [
    {
     "data": {
      "text/html": [
       "<div>\n",
       "<style scoped>\n",
       "    .dataframe tbody tr th:only-of-type {\n",
       "        vertical-align: middle;\n",
       "    }\n",
       "\n",
       "    .dataframe tbody tr th {\n",
       "        vertical-align: top;\n",
       "    }\n",
       "\n",
       "    .dataframe thead th {\n",
       "        text-align: right;\n",
       "    }\n",
       "</style>\n",
       "<table border=\"1\" class=\"dataframe\">\n",
       "  <thead>\n",
       "    <tr style=\"text-align: right;\">\n",
       "      <th></th>\n",
       "      <th>title</th>\n",
       "      <th>num_comments</th>\n",
       "      <th>text</th>\n",
       "      <th>id</th>\n",
       "      <th>author</th>\n",
       "      <th>created_utc</th>\n",
       "      <th>score</th>\n",
       "      <th>upvote_ratio</th>\n",
       "      <th>url</th>\n",
       "      <th>flair</th>\n",
       "      <th>disorder</th>\n",
       "      <th>text_data</th>\n",
       "      <th>date_raw</th>\n",
       "      <th>date</th>\n",
       "      <th>Depression Risk</th>\n",
       "    </tr>\n",
       "  </thead>\n",
       "  <tbody>\n",
       "    <tr>\n",
       "      <th>0</th>\n",
       "      <td>Assholes blasting their music for everyone to ...</td>\n",
       "      <td>1</td>\n",
       "      <td>Sitting in front of a dingus right now, passiv...</td>\n",
       "      <td>13y9p5p</td>\n",
       "      <td>Mugwumpen</td>\n",
       "      <td>1.685704e+09</td>\n",
       "      <td>1</td>\n",
       "      <td>1.0</td>\n",
       "      <td>https://www.reddit.com/r/RandomThoughts/commen...</td>\n",
       "      <td>NaN</td>\n",
       "      <td>Randomthoughts</td>\n",
       "      <td>Assholes blasting their music for everyone to ...</td>\n",
       "      <td>2023-06-02 11:10:40</td>\n",
       "      <td>2023-06-02</td>\n",
       "      <td>False</td>\n",
       "    </tr>\n",
       "    <tr>\n",
       "      <th>1</th>\n",
       "      <td>Being nice isn't always kind</td>\n",
       "      <td>1</td>\n",
       "      <td>NaN</td>\n",
       "      <td>13y9ov9</td>\n",
       "      <td>jackal_lynn</td>\n",
       "      <td>1.685704e+09</td>\n",
       "      <td>1</td>\n",
       "      <td>1.0</td>\n",
       "      <td>https://www.reddit.com/r/RandomThoughts/commen...</td>\n",
       "      <td>NaN</td>\n",
       "      <td>Randomthoughts</td>\n",
       "      <td>Being nice isn't always kind</td>\n",
       "      <td>2023-06-02 11:10:17</td>\n",
       "      <td>2023-06-02</td>\n",
       "      <td>False</td>\n",
       "    </tr>\n",
       "    <tr>\n",
       "      <th>2</th>\n",
       "      <td>We are officially closer to 2040 than 2006</td>\n",
       "      <td>1</td>\n",
       "      <td>This was posted at 12:00pm UK time on June 2nd...</td>\n",
       "      <td>13y9hwb</td>\n",
       "      <td>23aviators</td>\n",
       "      <td>1.685704e+09</td>\n",
       "      <td>2</td>\n",
       "      <td>1.0</td>\n",
       "      <td>https://www.reddit.com/r/RandomThoughts/commen...</td>\n",
       "      <td>NaN</td>\n",
       "      <td>Randomthoughts</td>\n",
       "      <td>We are officially closer to 2040 than 2006 Thi...</td>\n",
       "      <td>2023-06-02 11:00:18</td>\n",
       "      <td>2023-06-02</td>\n",
       "      <td>False</td>\n",
       "    </tr>\n",
       "    <tr>\n",
       "      <th>3</th>\n",
       "      <td>Does animal abuse count if it’s directed towar...</td>\n",
       "      <td>2</td>\n",
       "      <td>NaN</td>\n",
       "      <td>13y97fb</td>\n",
       "      <td>AverageOxygenUser</td>\n",
       "      <td>1.685703e+09</td>\n",
       "      <td>1</td>\n",
       "      <td>1.0</td>\n",
       "      <td>https://www.reddit.com/r/RandomThoughts/commen...</td>\n",
       "      <td>NaN</td>\n",
       "      <td>Randomthoughts</td>\n",
       "      <td>Does animal abuse count if it’s directed towar...</td>\n",
       "      <td>2023-06-02 10:44:15</td>\n",
       "      <td>2023-06-02</td>\n",
       "      <td>False</td>\n",
       "    </tr>\n",
       "    <tr>\n",
       "      <th>4</th>\n",
       "      <td>There's a huge market for flavored breakfast c...</td>\n",
       "      <td>2</td>\n",
       "      <td>NaN</td>\n",
       "      <td>13y8tt1</td>\n",
       "      <td>ZootOfCastleAnthrax</td>\n",
       "      <td>1.685701e+09</td>\n",
       "      <td>1</td>\n",
       "      <td>1.0</td>\n",
       "      <td>https://www.reddit.com/r/RandomThoughts/commen...</td>\n",
       "      <td>NaN</td>\n",
       "      <td>Randomthoughts</td>\n",
       "      <td>There's a huge market for flavored breakfast c...</td>\n",
       "      <td>2023-06-02 10:23:16</td>\n",
       "      <td>2023-06-02</td>\n",
       "      <td>False</td>\n",
       "    </tr>\n",
       "  </tbody>\n",
       "</table>\n",
       "</div>"
      ],
      "text/plain": [
       "                                               title  num_comments  \\\n",
       "0  Assholes blasting their music for everyone to ...             1   \n",
       "1                       Being nice isn't always kind             1   \n",
       "2         We are officially closer to 2040 than 2006             1   \n",
       "3  Does animal abuse count if it’s directed towar...             2   \n",
       "4  There's a huge market for flavored breakfast c...             2   \n",
       "\n",
       "                                                text       id  \\\n",
       "0  Sitting in front of a dingus right now, passiv...  13y9p5p   \n",
       "1                                                NaN  13y9ov9   \n",
       "2  This was posted at 12:00pm UK time on June 2nd...  13y9hwb   \n",
       "3                                                NaN  13y97fb   \n",
       "4                                                NaN  13y8tt1   \n",
       "\n",
       "                author   created_utc  score  upvote_ratio  \\\n",
       "0            Mugwumpen  1.685704e+09      1           1.0   \n",
       "1          jackal_lynn  1.685704e+09      1           1.0   \n",
       "2           23aviators  1.685704e+09      2           1.0   \n",
       "3    AverageOxygenUser  1.685703e+09      1           1.0   \n",
       "4  ZootOfCastleAnthrax  1.685701e+09      1           1.0   \n",
       "\n",
       "                                                 url flair        disorder  \\\n",
       "0  https://www.reddit.com/r/RandomThoughts/commen...   NaN  Randomthoughts   \n",
       "1  https://www.reddit.com/r/RandomThoughts/commen...   NaN  Randomthoughts   \n",
       "2  https://www.reddit.com/r/RandomThoughts/commen...   NaN  Randomthoughts   \n",
       "3  https://www.reddit.com/r/RandomThoughts/commen...   NaN  Randomthoughts   \n",
       "4  https://www.reddit.com/r/RandomThoughts/commen...   NaN  Randomthoughts   \n",
       "\n",
       "                                           text_data            date_raw  \\\n",
       "0  Assholes blasting their music for everyone to ... 2023-06-02 11:10:40   \n",
       "1                      Being nice isn't always kind  2023-06-02 11:10:17   \n",
       "2  We are officially closer to 2040 than 2006 Thi... 2023-06-02 11:00:18   \n",
       "3  Does animal abuse count if it’s directed towar... 2023-06-02 10:44:15   \n",
       "4  There's a huge market for flavored breakfast c... 2023-06-02 10:23:16   \n",
       "\n",
       "         date  Depression Risk  \n",
       "0  2023-06-02            False  \n",
       "1  2023-06-02            False  \n",
       "2  2023-06-02            False  \n",
       "3  2023-06-02            False  \n",
       "4  2023-06-02            False  "
      ]
     },
     "execution_count": 7,
     "metadata": {},
     "output_type": "execute_result"
    }
   ],
   "source": [
    "# data from r/randomthoughts\n",
    "df_neg = pd.read_csv('data/Randomthoughts.csv')\n",
    "\n",
    "# Add new columns\n",
    "df_neg['text_data'] = df_neg['title'].fillna('') + ' ' + df_neg['text'].fillna('')\n",
    "df_neg['date_raw'] = pd.to_datetime(df_neg['created_utc'], unit='s')\n",
    "df_neg['date'] = df_neg['date_raw'].dt.date\n",
    "df_neg['Depression Risk'] = False\n",
    "df_neg.head()"
   ]
  },
  {
   "cell_type": "code",
   "execution_count": 8,
   "id": "5975cd88",
   "metadata": {},
   "outputs": [
    {
     "data": {
      "text/html": [
       "<div>\n",
       "<style scoped>\n",
       "    .dataframe tbody tr th:only-of-type {\n",
       "        vertical-align: middle;\n",
       "    }\n",
       "\n",
       "    .dataframe tbody tr th {\n",
       "        vertical-align: top;\n",
       "    }\n",
       "\n",
       "    .dataframe thead th {\n",
       "        text-align: right;\n",
       "    }\n",
       "</style>\n",
       "<table border=\"1\" class=\"dataframe\">\n",
       "  <thead>\n",
       "    <tr style=\"text-align: right;\">\n",
       "      <th></th>\n",
       "      <th>date</th>\n",
       "      <th>id</th>\n",
       "      <th>text_data</th>\n",
       "      <th>Depression Risk</th>\n",
       "    </tr>\n",
       "  </thead>\n",
       "  <tbody>\n",
       "    <tr>\n",
       "      <th>0</th>\n",
       "      <td>2023-06-02</td>\n",
       "      <td>13y9p5p</td>\n",
       "      <td>Assholes blasting their music for everyone to ...</td>\n",
       "      <td>False</td>\n",
       "    </tr>\n",
       "    <tr>\n",
       "      <th>1</th>\n",
       "      <td>2023-06-02</td>\n",
       "      <td>13y9ov9</td>\n",
       "      <td>Being nice isn't always kind</td>\n",
       "      <td>False</td>\n",
       "    </tr>\n",
       "    <tr>\n",
       "      <th>2</th>\n",
       "      <td>2023-06-02</td>\n",
       "      <td>13y9hwb</td>\n",
       "      <td>We are officially closer to 2040 than 2006 Thi...</td>\n",
       "      <td>False</td>\n",
       "    </tr>\n",
       "    <tr>\n",
       "      <th>3</th>\n",
       "      <td>2023-06-02</td>\n",
       "      <td>13y97fb</td>\n",
       "      <td>Does animal abuse count if it’s directed towar...</td>\n",
       "      <td>False</td>\n",
       "    </tr>\n",
       "    <tr>\n",
       "      <th>4</th>\n",
       "      <td>2023-06-02</td>\n",
       "      <td>13y8tt1</td>\n",
       "      <td>There's a huge market for flavored breakfast c...</td>\n",
       "      <td>False</td>\n",
       "    </tr>\n",
       "  </tbody>\n",
       "</table>\n",
       "</div>"
      ],
      "text/plain": [
       "         date       id                                          text_data  \\\n",
       "0  2023-06-02  13y9p5p  Assholes blasting their music for everyone to ...   \n",
       "1  2023-06-02  13y9ov9                      Being nice isn't always kind    \n",
       "2  2023-06-02  13y9hwb  We are officially closer to 2040 than 2006 Thi...   \n",
       "3  2023-06-02  13y97fb  Does animal abuse count if it’s directed towar...   \n",
       "4  2023-06-02  13y8tt1  There's a huge market for flavored breakfast c...   \n",
       "\n",
       "   Depression Risk  \n",
       "0            False  \n",
       "1            False  \n",
       "2            False  \n",
       "3            False  \n",
       "4            False  "
      ]
     },
     "execution_count": 8,
     "metadata": {},
     "output_type": "execute_result"
    }
   ],
   "source": [
    "#Filter Columns\n",
    "df_neg = df_neg[['date', 'id', 'text_data', 'Depression Risk']]\n",
    "df_neg.head()"
   ]
  },
  {
   "attachments": {},
   "cell_type": "markdown",
   "id": "119ac91c",
   "metadata": {},
   "source": [
    "## Combined DataFrame: postive class (r/depression) + negative class (r/randomthoughts)"
   ]
  },
  {
   "cell_type": "code",
   "execution_count": 9,
   "id": "c1b2c438",
   "metadata": {},
   "outputs": [
    {
     "data": {
      "text/html": [
       "<div>\n",
       "<style scoped>\n",
       "    .dataframe tbody tr th:only-of-type {\n",
       "        vertical-align: middle;\n",
       "    }\n",
       "\n",
       "    .dataframe tbody tr th {\n",
       "        vertical-align: top;\n",
       "    }\n",
       "\n",
       "    .dataframe thead th {\n",
       "        text-align: right;\n",
       "    }\n",
       "</style>\n",
       "<table border=\"1\" class=\"dataframe\">\n",
       "  <thead>\n",
       "    <tr style=\"text-align: right;\">\n",
       "      <th></th>\n",
       "      <th>date</th>\n",
       "      <th>id</th>\n",
       "      <th>text_data</th>\n",
       "      <th>Depression Risk</th>\n",
       "    </tr>\n",
       "  </thead>\n",
       "  <tbody>\n",
       "    <tr>\n",
       "      <th>0</th>\n",
       "      <td>2023-05-31</td>\n",
       "      <td>13wan0q</td>\n",
       "      <td>im calling it its alot more complicated but es...</td>\n",
       "      <td>True</td>\n",
       "    </tr>\n",
       "    <tr>\n",
       "      <th>1</th>\n",
       "      <td>2023-05-31</td>\n",
       "      <td>13wam26</td>\n",
       "      <td>i’m worried depressed partner is staying with ...</td>\n",
       "      <td>True</td>\n",
       "    </tr>\n",
       "    <tr>\n",
       "      <th>2</th>\n",
       "      <td>2023-05-31</td>\n",
       "      <td>13waejs</td>\n",
       "      <td>killing myself tomorrow i really am fucking do...</td>\n",
       "      <td>True</td>\n",
       "    </tr>\n",
       "    <tr>\n",
       "      <th>3</th>\n",
       "      <td>2023-05-31</td>\n",
       "      <td>13wad8o</td>\n",
       "      <td>don’t have too many good memories hello,\\n\\ni’...</td>\n",
       "      <td>True</td>\n",
       "    </tr>\n",
       "    <tr>\n",
       "      <th>4</th>\n",
       "      <td>2023-05-31</td>\n",
       "      <td>13wa9cq</td>\n",
       "      <td>on a string or something \"i need to put us on ...</td>\n",
       "      <td>True</td>\n",
       "    </tr>\n",
       "    <tr>\n",
       "      <th>...</th>\n",
       "      <td>...</td>\n",
       "      <td>...</td>\n",
       "      <td>...</td>\n",
       "      <td>...</td>\n",
       "    </tr>\n",
       "    <tr>\n",
       "      <th>1951</th>\n",
       "      <td>2022-07-11</td>\n",
       "      <td>vw7ur2</td>\n",
       "      <td>whatever happened to live and let live?</td>\n",
       "      <td>False</td>\n",
       "    </tr>\n",
       "    <tr>\n",
       "      <th>1952</th>\n",
       "      <td>2022-05-03</td>\n",
       "      <td>uh9c9w</td>\n",
       "      <td>what if american women went on “strike”? like ...</td>\n",
       "      <td>False</td>\n",
       "    </tr>\n",
       "    <tr>\n",
       "      <th>1953</th>\n",
       "      <td>2021-08-20</td>\n",
       "      <td>p7rp97</td>\n",
       "      <td>what if colors look completely different to ev...</td>\n",
       "      <td>False</td>\n",
       "    </tr>\n",
       "    <tr>\n",
       "      <th>1954</th>\n",
       "      <td>2023-04-14</td>\n",
       "      <td>12m69s1</td>\n",
       "      <td>[mod post]] hey /r/randomthoughts! as some of ...</td>\n",
       "      <td>False</td>\n",
       "    </tr>\n",
       "    <tr>\n",
       "      <th>1955</th>\n",
       "      <td>2023-06-02</td>\n",
       "      <td>13ya0r0</td>\n",
       "      <td>if an old school asian businessman’s breakfast...</td>\n",
       "      <td>False</td>\n",
       "    </tr>\n",
       "  </tbody>\n",
       "</table>\n",
       "<p>3912 rows × 4 columns</p>\n",
       "</div>"
      ],
      "text/plain": [
       "            date       id                                          text_data  \\\n",
       "0     2023-05-31  13wan0q  im calling it its alot more complicated but es...   \n",
       "1     2023-05-31  13wam26  i’m worried depressed partner is staying with ...   \n",
       "2     2023-05-31  13waejs  killing myself tomorrow i really am fucking do...   \n",
       "3     2023-05-31  13wad8o  don’t have too many good memories hello,\\n\\ni’...   \n",
       "4     2023-05-31  13wa9cq  on a string or something \"i need to put us on ...   \n",
       "...          ...      ...                                                ...   \n",
       "1951  2022-07-11   vw7ur2           whatever happened to live and let live?    \n",
       "1952  2022-05-03   uh9c9w  what if american women went on “strike”? like ...   \n",
       "1953  2021-08-20   p7rp97  what if colors look completely different to ev...   \n",
       "1954  2023-04-14  12m69s1  [mod post]] hey /r/randomthoughts! as some of ...   \n",
       "1955  2023-06-02  13ya0r0  if an old school asian businessman’s breakfast...   \n",
       "\n",
       "      Depression Risk  \n",
       "0                True  \n",
       "1                True  \n",
       "2                True  \n",
       "3                True  \n",
       "4                True  \n",
       "...               ...  \n",
       "1951            False  \n",
       "1952            False  \n",
       "1953            False  \n",
       "1954            False  \n",
       "1955            False  \n",
       "\n",
       "[3912 rows x 4 columns]"
      ]
     },
     "execution_count": 9,
     "metadata": {},
     "output_type": "execute_result"
    }
   ],
   "source": [
    "df_combined = pd.concat([df_pos, df_neg])\n",
    "df_combined['text_data'] = df_combined['text_data'].str.lower()\n",
    "df_combined"
   ]
  },
  {
   "cell_type": "code",
   "execution_count": 10,
   "id": "64aeabee",
   "metadata": {},
   "outputs": [
    {
     "name": "stdout",
     "output_type": "stream",
     "text": [
      "True     1956\n",
      "False    1956\n",
      "Name: Depression Risk, dtype: int64\n",
      "(3912, 4)\n"
     ]
    }
   ],
   "source": [
    "# check in case of imbalanced data\n",
    "\n",
    "print(df_combined['Depression Risk'].value_counts())\n",
    "print(df_combined.shape)"
   ]
  },
  {
   "attachments": {},
   "cell_type": "markdown",
   "id": "4d038e8f",
   "metadata": {},
   "source": [
    "## Data Cleaning"
   ]
  },
  {
   "cell_type": "code",
   "execution_count": 11,
   "id": "a484d546-3312-47e7-aa66-cd99567a8f95",
   "metadata": {},
   "outputs": [],
   "source": [
    "def expand_contractions(text):\n",
    "    result = text\n",
    "    \n",
    "    contractions = {\n",
    "        \"ain't\": \"am not / are not\",\n",
    "        \"aren't\": \"are not / am not\",\n",
    "        \"can't\": \"cannot\",\n",
    "        \"can't've\": \"cannot have\",\n",
    "        \"'cause\": \"because\",\n",
    "        \"could've\": \"could have\",\n",
    "        \"couldn't\": \"could not\",\n",
    "        \"couldn't've\": \"could not have\",\n",
    "        \"didn't\": \"did not\",\n",
    "        \"doesn't\": \"does not\",\n",
    "        \"don't\": \"do not\",\n",
    "        \"hadn't\": \"had not\",\n",
    "        \"hadn't've\": \"had not have\",\n",
    "        \"hasn't\": \"has not\",\n",
    "        \"haven't\": \"have not\",\n",
    "        \"he'd\": \"he had / he would\",\n",
    "        \"he'd've\": \"he would have\",\n",
    "        \"he'll\": \"he shall / he will\",\n",
    "        \"he'll've\": \"he shall have / he will have\",\n",
    "        \"he's\": \"he has / he is\",\n",
    "        \"how'd\": \"how did\",\n",
    "        \"how'd'y\": \"how do you\",\n",
    "        \"how'll\": \"how will\",\n",
    "        \"how's\": \"how has / how is\",\n",
    "        \"i'd\": \"I had / I would\",\n",
    "        \"i'd've\": \"I would have\",\n",
    "        \"i'll\": \"I shall / I will\",\n",
    "        \"i'll've\": \"I shall have / I will have\",\n",
    "        \"i'm\": \"I am\",\n",
    "        \"i've\": \"I have\",\n",
    "        \"isn't\": \"is not\",\n",
    "        \"it'd\": \"it had / it would\",\n",
    "        \"it'd've\": \"it would have\",\n",
    "        \"it'll\": \"it shall / it will\",\n",
    "        \"it'll've\": \"it shall have / it will have\",\n",
    "        \"it's\": \"it has / it is\",\n",
    "        \"let's\": \"let us\",\n",
    "        \"ma'am\": \"madam\",\n",
    "        \"mayn't\": \"may not\",\n",
    "        \"might've\": \"might have\",\n",
    "        \"mightn't\": \"might not\",\n",
    "        \"mightn't've\": \"might not have\",\n",
    "        \"must've\": \"must have\",\n",
    "        \"mustn't\": \"must not\",\n",
    "        \"mustn't've\": \"must not have\",\n",
    "        \"needn't\": \"need not\",\n",
    "        \"needn't've\": \"need not have\",\n",
    "        \"o'clock\": \"of the clock\",\n",
    "        \"oughtn't\": \"ought not\",\n",
    "        \"oughtn't've\": \"ought not have\",\n",
    "        \"shan't\": \"shall not\",\n",
    "        \"sha'n't\": \"shall not\",\n",
    "        \"shan't've\": \"shall not have\",\n",
    "        \"she'd\": \"she had / she would\",\n",
    "        \"she'd've\": \"she would have\",\n",
    "        \"she'll\": \"she shall / she will\",\n",
    "        \"she'll've\": \"she shall have / she will have\",\n",
    "        \"she's\": \"she has / she is\",\n",
    "        \"should've\": \"should have\",\n",
    "        \"shouldn't\": \"should not\",\n",
    "        \"shouldn't've\": \"should not have\",\n",
    "        \"so've\": \"so have\",\n",
    "        \"so's\": \"so as / so is\",\n",
    "        \"that'd\": \"that would / that had\",\n",
    "        \"that'd've\": \"that would have\",\n",
    "        \"that's\": \"that has / that is\",\n",
    "        \"there'd\": \"there had / there would\",\n",
    "        \"there'd've\": \"there would have\",\n",
    "        \"there's\": \"there has / there is\",\n",
    "        \"they'd\": \"they had / they would\",\n",
    "        \"they'd've\": \"they would have\",\n",
    "        \"they'll\": \"they shall / they will\",\n",
    "        \"they'll've\": \"they shall have / they will have\",\n",
    "        \"they're\": \"they are\",\n",
    "        \"they've\": \"they have\",\n",
    "        \"to've\": \"to have\",\n",
    "        \"wasn't\": \"was not\",\n",
    "        \"we'd\": \"we had / we would\",\n",
    "        \"we'd've\": \"we would have\",\n",
    "        \"we'll\": \"we will\",\n",
    "        \"we'll've\": \"we will have\",\n",
    "        \"we're\": \"we are\",\n",
    "        \"we've\": \"we have\",\n",
    "        \"weren't\": \"were not\",\n",
    "        \"what'll\": \"what shall / what will\",\n",
    "        \"what'll've\": \"what shall have / what will have\",\n",
    "        \"what're\": \"what are\",\n",
    "        \"what's\": \"what has / what is\",\n",
    "        \"what've\": \"what have\",\n",
    "        \"when's\": \"when has / when is\",\n",
    "        \"when've\": \"when have\",\n",
    "        \"where'd\": \"where did\",\n",
    "        \"where's\": \"where has / where is\",\n",
    "        \"where've\": \"where have\",\n",
    "        \"who'll\": \"who shall / who will\",\n",
    "        \"who'll've\": \"who shall have / who will have\",\n",
    "        \"who's\": \"who has / who is\",\n",
    "        \"who've\": \"who have\",\n",
    "        \"why's\": \"why has / why is\",\n",
    "        \"why've\": \"why have\",\n",
    "        \"will've\": \"will have\",\n",
    "        \"won't\": \"will not\",\n",
    "        \"won't've\": \"will not have\",\n",
    "        \"would've\": \"would have\",\n",
    "        \"wouldn't\": \"would not\",\n",
    "        \"wouldn't've\": \"would not have\",\n",
    "        \"y'all\": \"you all\",\n",
    "        \"y'all'd\": \"you all would\",\n",
    "        \"y'all'd've\": \"you all would have\",\n",
    "        \"y'all're\": \"you all are\",\n",
    "        \"y'all've\": \"you all have\",\n",
    "        \"you'd\": \"you had / you would\",\n",
    "        \"you'd've\": \"you would have\",\n",
    "        \"you'll\": \"you shall / you will\",\n",
    "        \"you'll've\": \"you shall have / you will have\",\n",
    "        \"you're\": \"you are\",\n",
    "        \"you've\": \"you have\"\n",
    "    }\n",
    "    \n",
    "    for word in result.split():\n",
    "        if word in contractions:\n",
    "            result = result.replace(word, contractions[word])\n",
    "\n",
    "    return result"
   ]
  },
  {
   "cell_type": "code",
   "execution_count": 12,
   "id": "1c741b17-2530-4e5b-8975-0cce7a15ad49",
   "metadata": {},
   "outputs": [],
   "source": [
    "import unicodedata\n",
    "\n",
    "def remove_accents(text):\n",
    "    return ''.join(char for char in unicodedata.normalize('NFD', text)\n",
    "                   if unicodedata.category(char) != 'Mn')"
   ]
  },
  {
   "cell_type": "code",
   "execution_count": 13,
   "id": "341b662c-92f9-4118-900a-5f36453a4921",
   "metadata": {},
   "outputs": [],
   "source": [
    "def remove_emoji(text):\n",
    "    return emoji.replace_emoji(text)"
   ]
  },
  {
   "cell_type": "code",
   "execution_count": 14,
   "id": "ca21f003-764c-4321-ac12-f0ad6f713016",
   "metadata": {},
   "outputs": [],
   "source": [
    "def remove_hashtags(text):\n",
    "    return re.sub(r'[＃#](\\s\\w+)', \" \", text)"
   ]
  },
  {
   "cell_type": "code",
   "execution_count": 15,
   "id": "690f6fdc-d783-4f89-8e03-8a0da2b23568",
   "metadata": {},
   "outputs": [],
   "source": [
    "def remove_mentions(text):\n",
    "    return re.sub('@([a-zA-Z0-9]{1,15})', ' ', text)"
   ]
  },
  {
   "cell_type": "code",
   "execution_count": 16,
   "id": "5cd48bce-920e-4d4a-9665-59d0437b81f4",
   "metadata": {},
   "outputs": [],
   "source": [
    "def remove_hyperlinks(text):\n",
    "    return re.sub('<[^>]+>', ' ', text)"
   ]
  },
  {
   "cell_type": "code",
   "execution_count": 17,
   "id": "8457ba1b-1430-45f4-9b3d-2ca859c27b6b",
   "metadata": {},
   "outputs": [],
   "source": [
    "def remove_links(text):\n",
    "    return re.sub('https://', \"\", text)"
   ]
  },
  {
   "cell_type": "code",
   "execution_count": 18,
   "id": "32865124-8684-4c8c-a1e7-66ba20398ba4",
   "metadata": {},
   "outputs": [],
   "source": [
    "def remove_numbers(text):\n",
    "    return re.sub('[^a-zA-Z]', ' ', text)"
   ]
  },
  {
   "cell_type": "code",
   "execution_count": 19,
   "id": "800eb74b-6b7e-473e-8025-05b8639aa0e1",
   "metadata": {},
   "outputs": [],
   "source": [
    "def remove_extra_white_spaces(text):\n",
    "    return re.sub('\\s+', ' ', text)"
   ]
  },
  {
   "cell_type": "code",
   "execution_count": 20,
   "id": "939573aa-2441-4591-9420-f510e84908b7",
   "metadata": {},
   "outputs": [],
   "source": [
    "def remove_low_quality_words(x):\n",
    "    \n",
    "    lst = list()\n",
    "    \n",
    "    for i in x.split():\n",
    "        if len(i) > 2:\n",
    "            if len(i) < 30:\n",
    "                if len(set(i)) > 2:\n",
    "                    lst.append(i)\n",
    "                    \n",
    "    return \" \".join(lst)"
   ]
  },
  {
   "cell_type": "code",
   "execution_count": 21,
   "id": "ba1e4c61-72c6-44fe-b137-8dce2db1c581",
   "metadata": {},
   "outputs": [],
   "source": [
    "cleaning_functions = [\n",
    "    remove_links,\n",
    "    expand_contractions,\n",
    "    remove_accents,\n",
    "    remove_emoji, \n",
    "    remove_hashtags, \n",
    "    remove_mentions,\n",
    "    remove_hyperlinks,\n",
    "    remove_numbers,\n",
    "    remove_extra_white_spaces,\n",
    "    remove_low_quality_words\n",
    "]\n"
   ]
  },
  {
   "cell_type": "code",
   "execution_count": 22,
   "id": "188bd670-204d-41b5-aa4b-8ccaefc6b04a",
   "metadata": {},
   "outputs": [],
   "source": [
    "import spacy\n",
    "\n",
    "'''\n",
    "Text Processing Functions\n",
    "'''\n",
    "nlp = spacy.load('en_core_web_lg')\n",
    "\n",
    "def tokenize_and_lemmatize(text):\n",
    "    doc = nlp(text)\n",
    "\n",
    "    li = []\n",
    "    for token in doc:\n",
    "        li.append(token.lemma_)\n",
    "\n",
    "    return \" \".join(li)"
   ]
  },
  {
   "cell_type": "code",
   "execution_count": 23,
   "id": "2531f7ee-e594-4700-acee-db49c5be5844",
   "metadata": {},
   "outputs": [
    {
     "data": {
      "text/html": [
       "<div>\n",
       "<style scoped>\n",
       "    .dataframe tbody tr th:only-of-type {\n",
       "        vertical-align: middle;\n",
       "    }\n",
       "\n",
       "    .dataframe tbody tr th {\n",
       "        vertical-align: top;\n",
       "    }\n",
       "\n",
       "    .dataframe thead th {\n",
       "        text-align: right;\n",
       "    }\n",
       "</style>\n",
       "<table border=\"1\" class=\"dataframe\">\n",
       "  <thead>\n",
       "    <tr style=\"text-align: right;\">\n",
       "      <th></th>\n",
       "      <th>date</th>\n",
       "      <th>id</th>\n",
       "      <th>text_data</th>\n",
       "      <th>Depression Risk</th>\n",
       "    </tr>\n",
       "  </thead>\n",
       "  <tbody>\n",
       "    <tr>\n",
       "      <th>0</th>\n",
       "      <td>2023-05-31</td>\n",
       "      <td>13wan0q</td>\n",
       "      <td>call its alot more complicated but esntially h...</td>\n",
       "      <td>True</td>\n",
       "    </tr>\n",
       "    <tr>\n",
       "      <th>1</th>\n",
       "      <td>2023-05-31</td>\n",
       "      <td>13wam26</td>\n",
       "      <td>worry depressed partner stay with because does...</td>\n",
       "      <td>True</td>\n",
       "    </tr>\n",
       "    <tr>\n",
       "      <th>2</th>\n",
       "      <td>2023-05-31</td>\n",
       "      <td>13waejs</td>\n",
       "      <td>kill myself tomorrow really fuck do people suc...</td>\n",
       "      <td>True</td>\n",
       "    </tr>\n",
       "    <tr>\n",
       "      <th>3</th>\n",
       "      <td>2023-05-31</td>\n",
       "      <td>13wad8o</td>\n",
       "      <td>don have many good memory hello and sit here k...</td>\n",
       "      <td>True</td>\n",
       "    </tr>\n",
       "    <tr>\n",
       "      <th>4</th>\n",
       "      <td>2023-05-31</td>\n",
       "      <td>13wa9cq</td>\n",
       "      <td>stre something need put hold say that how long...</td>\n",
       "      <td>True</td>\n",
       "    </tr>\n",
       "  </tbody>\n",
       "</table>\n",
       "</div>"
      ],
      "text/plain": [
       "         date       id                                          text_data  \\\n",
       "0  2023-05-31  13wan0q  call its alot more complicated but esntially h...   \n",
       "1  2023-05-31  13wam26  worry depressed partner stay with because does...   \n",
       "2  2023-05-31  13waejs  kill myself tomorrow really fuck do people suc...   \n",
       "3  2023-05-31  13wad8o  don have many good memory hello and sit here k...   \n",
       "4  2023-05-31  13wa9cq  stre something need put hold say that how long...   \n",
       "\n",
       "   Depression Risk  \n",
       "0             True  \n",
       "1             True  \n",
       "2             True  \n",
       "3             True  \n",
       "4             True  "
      ]
     },
     "execution_count": 23,
     "metadata": {},
     "output_type": "execute_result"
    }
   ],
   "source": [
    "clean_df = df_combined.copy()\n",
    "\n",
    "# Clean the Text\n",
    "for func in cleaning_functions:\n",
    "    clean_df['text_data'] = clean_df.apply(lambda x: func(x['text_data']), axis=1)\n",
    "\n",
    "# Tokenize and Lemmatize\n",
    "clean_df['text_data'] = clean_df.apply(lambda x: tokenize_and_lemmatize(x['text_data']), axis=1)\n",
    "\n",
    "\n",
    "clean_df.head()"
   ]
  },
  {
   "cell_type": "code",
   "execution_count": null,
   "id": "c1c4a97d-78a4-4b94-a12a-8a97211a4bbb",
   "metadata": {},
   "outputs": [],
   "source": [
    "# clean_df.to_csv('depression_clean.csv', index = False)"
   ]
  },
  {
   "attachments": {},
   "cell_type": "markdown",
   "id": "cc3bf024",
   "metadata": {},
   "source": [
    "Mapping"
   ]
  },
  {
   "cell_type": "code",
   "execution_count": 24,
   "id": "208a22b5",
   "metadata": {},
   "outputs": [],
   "source": [
    "sentiment_map = {\n",
    "    True: 1,\n",
    "    False: 0\n",
    "}\n",
    "\n",
    "sentiment_map_reverse = {\n",
    "    0: False,\n",
    "    1: True\n",
    "}\n",
    "clean_df['Sentiment'] = clean_df['Depression Risk'].map(sentiment_map)\n"
   ]
  },
  {
   "cell_type": "code",
   "execution_count": 25,
   "id": "8273889f",
   "metadata": {},
   "outputs": [
    {
     "name": "stdout",
     "output_type": "stream",
     "text": [
      "Would Recommend:          0\n",
      "True   1956\n",
      "False  1956\n",
      "Proportion Chance Criterion: 50.00%\n",
      "1.25 * Proportion Chance Criterion: 62.50%\n"
     ]
    },
    {
     "data": {
      "image/png": "[encoded data removed]",
      "text/plain": [
       "<Figure size 640x480 with 1 Axes>"
      ]
     },
     "metadata": {},
     "output_type": "display_data"
    }
   ],
   "source": [
    "# Compute the PCC\n",
    "\n",
    "state_counts = Counter(clean_df['Depression Risk'])\n",
    "df_state = pd.DataFrame.from_dict(state_counts, orient='index')\n",
    "df_state.plot(kind='bar', color='pink')\n",
    "\n",
    "num=(df_state[0]/df_state[0].sum())**2\n",
    "\n",
    "print(\"Would Recommend:{}\".format(df_state))\n",
    "\n",
    "print(\"Proportion Chance Criterion: {:0.2f}%\".format(100*num.sum()))\n",
    "print(\"1.25 * Proportion Chance Criterion: {:0.2f}%\".format(1.25*100*num.sum()))"
   ]
  },
  {
   "attachments": {},
   "cell_type": "markdown",
   "id": "4d8c1c24",
   "metadata": {},
   "source": [
    "## Split to Train and Test Datasets"
   ]
  },
  {
   "cell_type": "code",
   "execution_count": 27,
   "id": "22dcd694",
   "metadata": {},
   "outputs": [],
   "source": [
    "# split data into training and testing set\n",
    "\n",
    "X = clean_df['text_data']\n",
    "y = clean_df['Sentiment']\n",
    "(X_trainval, X_holdout, y_trainval, y_holdout) = train_test_split(X, y, \n",
    "                                                                  random_state=42, test_size=0.25,\n",
    "                                                                  stratify=y)\n",
    "\n"
   ]
  },
  {
   "attachments": {},
   "cell_type": "markdown",
   "id": "73659183",
   "metadata": {},
   "source": [
    "## Apply TfidfVecorizer to Texts to Generate Features"
   ]
  },
  {
   "cell_type": "code",
   "execution_count": 28,
   "id": "3564fc04",
   "metadata": {},
   "outputs": [],
   "source": [
    "\n",
    "tfidf = TfidfVectorizer(ngram_range=(1,2), stop_words='english')\n",
    "\n",
    "# Convert Training data into Vector with TfIdf Scores\n",
    "X_trainval_cv = tfidf.fit_transform(X_trainval)\n",
    "X_holdout_cv = tfidf.transform(X_holdout)"
   ]
  },
  {
   "cell_type": "code",
   "execution_count": 29,
   "id": "a1ac9496",
   "metadata": {},
   "outputs": [
    {
     "data": {
      "text/plain": [
       "<2934x86934 sparse matrix of type '<class 'numpy.float64'>'\n",
       "\twith 194208 stored elements in Compressed Sparse Row format>"
      ]
     },
     "execution_count": 29,
     "metadata": {},
     "output_type": "execute_result"
    }
   ],
   "source": [
    "X_trainval_cv"
   ]
  },
  {
   "cell_type": "code",
   "execution_count": 30,
   "id": "3c45f33c",
   "metadata": {},
   "outputs": [],
   "source": [
    "# convert tfidf results to a dataframe for checking\n",
    "\n",
    "feature_array = np.array(tfidf.get_feature_names_out())\n",
    "tfidf_sorting = np.argsort(X_trainval_cv.toarray()).flatten()[::-1]\n",
    "\n",
    "tfidf_vects = pd.DataFrame(X_trainval_cv.toarray(), columns=feature_array)"
   ]
  },
  {
   "cell_type": "code",
   "execution_count": 31,
   "id": "9ca195ad",
   "metadata": {},
   "outputs": [
    {
     "data": {
      "text/html": [
       "<div>\n",
       "<style scoped>\n",
       "    .dataframe tbody tr th:only-of-type {\n",
       "        vertical-align: middle;\n",
       "    }\n",
       "\n",
       "    .dataframe tbody tr th {\n",
       "        vertical-align: top;\n",
       "    }\n",
       "\n",
       "    .dataframe thead th {\n",
       "        text-align: right;\n",
       "    }\n",
       "</style>\n",
       "<table border=\"1\" class=\"dataframe\">\n",
       "  <thead>\n",
       "    <tr style=\"text-align: right;\">\n",
       "      <th></th>\n",
       "      <th>aaron</th>\n",
       "      <th>aaron taylor</th>\n",
       "      <th>abalados</th>\n",
       "      <th>abalados com</th>\n",
       "      <th>abandon</th>\n",
       "      <th>abandon birthday</th>\n",
       "      <th>abandon care</th>\n",
       "      <th>abandon constantly</th>\n",
       "      <th>abandon course</th>\n",
       "      <th>abandon crew</th>\n",
       "      <th>...</th>\n",
       "      <th>zone peer</th>\n",
       "      <th>zone speak</th>\n",
       "      <th>zone stay</th>\n",
       "      <th>zone stuff</th>\n",
       "      <th>zoning</th>\n",
       "      <th>zoning feel</th>\n",
       "      <th>zoom</th>\n",
       "      <th>zoom like</th>\n",
       "      <th>zoomie</th>\n",
       "      <th>zoomie just</th>\n",
       "    </tr>\n",
       "  </thead>\n",
       "  <tbody>\n",
       "    <tr>\n",
       "      <th>0</th>\n",
       "      <td>0.0</td>\n",
       "      <td>0.0</td>\n",
       "      <td>0.0</td>\n",
       "      <td>0.0</td>\n",
       "      <td>0.0</td>\n",
       "      <td>0.0</td>\n",
       "      <td>0.0</td>\n",
       "      <td>0.0</td>\n",
       "      <td>0.0</td>\n",
       "      <td>0.0</td>\n",
       "      <td>...</td>\n",
       "      <td>0.0</td>\n",
       "      <td>0.0</td>\n",
       "      <td>0.0</td>\n",
       "      <td>0.0</td>\n",
       "      <td>0.0</td>\n",
       "      <td>0.0</td>\n",
       "      <td>0.0</td>\n",
       "      <td>0.0</td>\n",
       "      <td>0.0</td>\n",
       "      <td>0.0</td>\n",
       "    </tr>\n",
       "    <tr>\n",
       "      <th>1</th>\n",
       "      <td>0.0</td>\n",
       "      <td>0.0</td>\n",
       "      <td>0.0</td>\n",
       "      <td>0.0</td>\n",
       "      <td>0.0</td>\n",
       "      <td>0.0</td>\n",
       "      <td>0.0</td>\n",
       "      <td>0.0</td>\n",
       "      <td>0.0</td>\n",
       "      <td>0.0</td>\n",
       "      <td>...</td>\n",
       "      <td>0.0</td>\n",
       "      <td>0.0</td>\n",
       "      <td>0.0</td>\n",
       "      <td>0.0</td>\n",
       "      <td>0.0</td>\n",
       "      <td>0.0</td>\n",
       "      <td>0.0</td>\n",
       "      <td>0.0</td>\n",
       "      <td>0.0</td>\n",
       "      <td>0.0</td>\n",
       "    </tr>\n",
       "    <tr>\n",
       "      <th>2</th>\n",
       "      <td>0.0</td>\n",
       "      <td>0.0</td>\n",
       "      <td>0.0</td>\n",
       "      <td>0.0</td>\n",
       "      <td>0.0</td>\n",
       "      <td>0.0</td>\n",
       "      <td>0.0</td>\n",
       "      <td>0.0</td>\n",
       "      <td>0.0</td>\n",
       "      <td>0.0</td>\n",
       "      <td>...</td>\n",
       "      <td>0.0</td>\n",
       "      <td>0.0</td>\n",
       "      <td>0.0</td>\n",
       "      <td>0.0</td>\n",
       "      <td>0.0</td>\n",
       "      <td>0.0</td>\n",
       "      <td>0.0</td>\n",
       "      <td>0.0</td>\n",
       "      <td>0.0</td>\n",
       "      <td>0.0</td>\n",
       "    </tr>\n",
       "    <tr>\n",
       "      <th>3</th>\n",
       "      <td>0.0</td>\n",
       "      <td>0.0</td>\n",
       "      <td>0.0</td>\n",
       "      <td>0.0</td>\n",
       "      <td>0.0</td>\n",
       "      <td>0.0</td>\n",
       "      <td>0.0</td>\n",
       "      <td>0.0</td>\n",
       "      <td>0.0</td>\n",
       "      <td>0.0</td>\n",
       "      <td>...</td>\n",
       "      <td>0.0</td>\n",
       "      <td>0.0</td>\n",
       "      <td>0.0</td>\n",
       "      <td>0.0</td>\n",
       "      <td>0.0</td>\n",
       "      <td>0.0</td>\n",
       "      <td>0.0</td>\n",
       "      <td>0.0</td>\n",
       "      <td>0.0</td>\n",
       "      <td>0.0</td>\n",
       "    </tr>\n",
       "    <tr>\n",
       "      <th>4</th>\n",
       "      <td>0.0</td>\n",
       "      <td>0.0</td>\n",
       "      <td>0.0</td>\n",
       "      <td>0.0</td>\n",
       "      <td>0.0</td>\n",
       "      <td>0.0</td>\n",
       "      <td>0.0</td>\n",
       "      <td>0.0</td>\n",
       "      <td>0.0</td>\n",
       "      <td>0.0</td>\n",
       "      <td>...</td>\n",
       "      <td>0.0</td>\n",
       "      <td>0.0</td>\n",
       "      <td>0.0</td>\n",
       "      <td>0.0</td>\n",
       "      <td>0.0</td>\n",
       "      <td>0.0</td>\n",
       "      <td>0.0</td>\n",
       "      <td>0.0</td>\n",
       "      <td>0.0</td>\n",
       "      <td>0.0</td>\n",
       "    </tr>\n",
       "    <tr>\n",
       "      <th>...</th>\n",
       "      <td>...</td>\n",
       "      <td>...</td>\n",
       "      <td>...</td>\n",
       "      <td>...</td>\n",
       "      <td>...</td>\n",
       "      <td>...</td>\n",
       "      <td>...</td>\n",
       "      <td>...</td>\n",
       "      <td>...</td>\n",
       "      <td>...</td>\n",
       "      <td>...</td>\n",
       "      <td>...</td>\n",
       "      <td>...</td>\n",
       "      <td>...</td>\n",
       "      <td>...</td>\n",
       "      <td>...</td>\n",
       "      <td>...</td>\n",
       "      <td>...</td>\n",
       "      <td>...</td>\n",
       "      <td>...</td>\n",
       "      <td>...</td>\n",
       "    </tr>\n",
       "    <tr>\n",
       "      <th>2929</th>\n",
       "      <td>0.0</td>\n",
       "      <td>0.0</td>\n",
       "      <td>0.0</td>\n",
       "      <td>0.0</td>\n",
       "      <td>0.0</td>\n",
       "      <td>0.0</td>\n",
       "      <td>0.0</td>\n",
       "      <td>0.0</td>\n",
       "      <td>0.0</td>\n",
       "      <td>0.0</td>\n",
       "      <td>...</td>\n",
       "      <td>0.0</td>\n",
       "      <td>0.0</td>\n",
       "      <td>0.0</td>\n",
       "      <td>0.0</td>\n",
       "      <td>0.0</td>\n",
       "      <td>0.0</td>\n",
       "      <td>0.0</td>\n",
       "      <td>0.0</td>\n",
       "      <td>0.0</td>\n",
       "      <td>0.0</td>\n",
       "    </tr>\n",
       "    <tr>\n",
       "      <th>2930</th>\n",
       "      <td>0.0</td>\n",
       "      <td>0.0</td>\n",
       "      <td>0.0</td>\n",
       "      <td>0.0</td>\n",
       "      <td>0.0</td>\n",
       "      <td>0.0</td>\n",
       "      <td>0.0</td>\n",
       "      <td>0.0</td>\n",
       "      <td>0.0</td>\n",
       "      <td>0.0</td>\n",
       "      <td>...</td>\n",
       "      <td>0.0</td>\n",
       "      <td>0.0</td>\n",
       "      <td>0.0</td>\n",
       "      <td>0.0</td>\n",
       "      <td>0.0</td>\n",
       "      <td>0.0</td>\n",
       "      <td>0.0</td>\n",
       "      <td>0.0</td>\n",
       "      <td>0.0</td>\n",
       "      <td>0.0</td>\n",
       "    </tr>\n",
       "    <tr>\n",
       "      <th>2931</th>\n",
       "      <td>0.0</td>\n",
       "      <td>0.0</td>\n",
       "      <td>0.0</td>\n",
       "      <td>0.0</td>\n",
       "      <td>0.0</td>\n",
       "      <td>0.0</td>\n",
       "      <td>0.0</td>\n",
       "      <td>0.0</td>\n",
       "      <td>0.0</td>\n",
       "      <td>0.0</td>\n",
       "      <td>...</td>\n",
       "      <td>0.0</td>\n",
       "      <td>0.0</td>\n",
       "      <td>0.0</td>\n",
       "      <td>0.0</td>\n",
       "      <td>0.0</td>\n",
       "      <td>0.0</td>\n",
       "      <td>0.0</td>\n",
       "      <td>0.0</td>\n",
       "      <td>0.0</td>\n",
       "      <td>0.0</td>\n",
       "    </tr>\n",
       "    <tr>\n",
       "      <th>2932</th>\n",
       "      <td>0.0</td>\n",
       "      <td>0.0</td>\n",
       "      <td>0.0</td>\n",
       "      <td>0.0</td>\n",
       "      <td>0.0</td>\n",
       "      <td>0.0</td>\n",
       "      <td>0.0</td>\n",
       "      <td>0.0</td>\n",
       "      <td>0.0</td>\n",
       "      <td>0.0</td>\n",
       "      <td>...</td>\n",
       "      <td>0.0</td>\n",
       "      <td>0.0</td>\n",
       "      <td>0.0</td>\n",
       "      <td>0.0</td>\n",
       "      <td>0.0</td>\n",
       "      <td>0.0</td>\n",
       "      <td>0.0</td>\n",
       "      <td>0.0</td>\n",
       "      <td>0.0</td>\n",
       "      <td>0.0</td>\n",
       "    </tr>\n",
       "    <tr>\n",
       "      <th>2933</th>\n",
       "      <td>0.0</td>\n",
       "      <td>0.0</td>\n",
       "      <td>0.0</td>\n",
       "      <td>0.0</td>\n",
       "      <td>0.0</td>\n",
       "      <td>0.0</td>\n",
       "      <td>0.0</td>\n",
       "      <td>0.0</td>\n",
       "      <td>0.0</td>\n",
       "      <td>0.0</td>\n",
       "      <td>...</td>\n",
       "      <td>0.0</td>\n",
       "      <td>0.0</td>\n",
       "      <td>0.0</td>\n",
       "      <td>0.0</td>\n",
       "      <td>0.0</td>\n",
       "      <td>0.0</td>\n",
       "      <td>0.0</td>\n",
       "      <td>0.0</td>\n",
       "      <td>0.0</td>\n",
       "      <td>0.0</td>\n",
       "    </tr>\n",
       "  </tbody>\n",
       "</table>\n",
       "<p>2934 rows × 87022 columns</p>\n",
       "</div>"
      ],
      "text/plain": [
       "      aaron  aaron taylor  abalados  abalados com  abandon  abandon birthday  \\\n",
       "0       0.0           0.0       0.0           0.0      0.0               0.0   \n",
       "1       0.0           0.0       0.0           0.0      0.0               0.0   \n",
       "2       0.0           0.0       0.0           0.0      0.0               0.0   \n",
       "3       0.0           0.0       0.0           0.0      0.0               0.0   \n",
       "4       0.0           0.0       0.0           0.0      0.0               0.0   \n",
       "...     ...           ...       ...           ...      ...               ...   \n",
       "2929    0.0           0.0       0.0           0.0      0.0               0.0   \n",
       "2930    0.0           0.0       0.0           0.0      0.0               0.0   \n",
       "2931    0.0           0.0       0.0           0.0      0.0               0.0   \n",
       "2932    0.0           0.0       0.0           0.0      0.0               0.0   \n",
       "2933    0.0           0.0       0.0           0.0      0.0               0.0   \n",
       "\n",
       "      abandon care  abandon constantly  abandon course  abandon crew  ...  \\\n",
       "0              0.0                 0.0             0.0           0.0  ...   \n",
       "1              0.0                 0.0             0.0           0.0  ...   \n",
       "2              0.0                 0.0             0.0           0.0  ...   \n",
       "3              0.0                 0.0             0.0           0.0  ...   \n",
       "4              0.0                 0.0             0.0           0.0  ...   \n",
       "...            ...                 ...             ...           ...  ...   \n",
       "2929           0.0                 0.0             0.0           0.0  ...   \n",
       "2930           0.0                 0.0             0.0           0.0  ...   \n",
       "2931           0.0                 0.0             0.0           0.0  ...   \n",
       "2932           0.0                 0.0             0.0           0.0  ...   \n",
       "2933           0.0                 0.0             0.0           0.0  ...   \n",
       "\n",
       "      zone peer  zone speak  zone stay  zone stuff  zoning  zoning feel  zoom  \\\n",
       "0           0.0         0.0        0.0         0.0     0.0          0.0   0.0   \n",
       "1           0.0         0.0        0.0         0.0     0.0          0.0   0.0   \n",
       "2           0.0         0.0        0.0         0.0     0.0          0.0   0.0   \n",
       "3           0.0         0.0        0.0         0.0     0.0          0.0   0.0   \n",
       "4           0.0         0.0        0.0         0.0     0.0          0.0   0.0   \n",
       "...         ...         ...        ...         ...     ...          ...   ...   \n",
       "2929        0.0         0.0        0.0         0.0     0.0          0.0   0.0   \n",
       "2930        0.0         0.0        0.0         0.0     0.0          0.0   0.0   \n",
       "2931        0.0         0.0        0.0         0.0     0.0          0.0   0.0   \n",
       "2932        0.0         0.0        0.0         0.0     0.0          0.0   0.0   \n",
       "2933        0.0         0.0        0.0         0.0     0.0          0.0   0.0   \n",
       "\n",
       "      zoom like  zoomie  zoomie just  \n",
       "0           0.0     0.0          0.0  \n",
       "1           0.0     0.0          0.0  \n",
       "2           0.0     0.0          0.0  \n",
       "3           0.0     0.0          0.0  \n",
       "4           0.0     0.0          0.0  \n",
       "...         ...     ...          ...  \n",
       "2929        0.0     0.0          0.0  \n",
       "2930        0.0     0.0          0.0  \n",
       "2931        0.0     0.0          0.0  \n",
       "2932        0.0     0.0          0.0  \n",
       "2933        0.0     0.0          0.0  \n",
       "\n",
       "[2934 rows x 87022 columns]"
      ]
     },
     "execution_count": 31,
     "metadata": {},
     "output_type": "execute_result"
    }
   ],
   "source": [
    "tfidf_vects"
   ]
  },
  {
   "cell_type": "code",
   "execution_count": 34,
   "id": "e4abaa94",
   "metadata": {},
   "outputs": [
    {
     "data": {
      "text/plain": [
       "1518    0.301596\n",
       "328     0.265862\n",
       "573     0.252479\n",
       "1590    0.222586\n",
       "2250    0.218300\n",
       "          ...   \n",
       "1158    0.000000\n",
       "1159    0.000000\n",
       "1160    0.000000\n",
       "1161    0.000000\n",
       "2933    0.000000\n",
       "Name: feel, Length: 2934, dtype: float64"
      ]
     },
     "execution_count": 34,
     "metadata": {},
     "output_type": "execute_result"
    }
   ],
   "source": [
    "# check values of one column/feature\n",
    "\n",
    "tfidf_vects['feel'].sort_values(ascending=False)"
   ]
  },
  {
   "attachments": {},
   "cell_type": "markdown",
   "id": "125af178",
   "metadata": {},
   "source": [
    "# Train Models"
   ]
  },
  {
   "attachments": {},
   "cell_type": "markdown",
   "id": "07291f9d",
   "metadata": {},
   "source": [
    "# Baseline Models"
   ]
  },
  {
   "cell_type": "code",
   "execution_count": 49,
   "id": "a169fb44",
   "metadata": {},
   "outputs": [],
   "source": [
    "# AutoML for Baseline Models\n",
    "\n",
    "def auto_ml(X, y, models_dict):\n",
    "\n",
    "    results = {}\n",
    "    results2 = {}\n",
    "\n",
    "    # log start time\n",
    "    total_start = time.time()\n",
    "\n",
    "    for model_name, model in tqdm(models_dict.items()):\n",
    "        \n",
    "        ################# this portion can be edited ###############\n",
    "        train_scores = []\n",
    "        val_scores = []\n",
    "\n",
    "        train_recall = []\n",
    "        val_recall = []\n",
    "        \n",
    "        train_prec =[]\n",
    "        val_prec =[]\n",
    "\n",
    "        train_f1 =[]\n",
    "        val_f1 =[]\n",
    "\n",
    "        start_time = time.time()\n",
    "\n",
    "        # fit\n",
    "        model.fit(X_trainval_cv, y_trainval)\n",
    "\n",
    "        # predict\n",
    "        train_preds = model.predict(X_trainval_cv)\n",
    "        val_preds = model.predict(X_holdout_cv)\n",
    "        \n",
    "        ################# this portion can be edited ###############\n",
    "\n",
    "        # classification accuracy\n",
    "        train_scores.append(model.score(X_trainval_cv, y_trainval))\n",
    "        val_scores.append(model.score(X_holdout_cv, y_holdout))\n",
    "\n",
    "        # recall\n",
    "        train_recall.append(recall_score(y_trainval, train_preds))\n",
    "        val_recall.append(recall_score(y_holdout, val_preds))\n",
    "        \n",
    "        # precision\n",
    "        train_prec.append(precision_score(y_trainval, train_preds))\n",
    "        val_prec.append(precision_score(y_holdout, val_preds))\n",
    "\n",
    "        # f1\n",
    "        train_f1.append(f1_score(y_trainval, train_preds))\n",
    "        val_f1.append(f1_score(y_holdout, val_preds))\n",
    "\n",
    "        end_time = time.time()\n",
    "\n",
    "        results[model_name] = {\n",
    "            'Train Accuracy': np.round(np.mean(train_scores) * 100, 2),\n",
    "            'Val Accuracy': np.round(np.mean(val_scores) * 100, 2),\n",
    "            'Train Recall': np.round(np.mean(train_recall) * 100, 2),\n",
    "            'Val Recall': np.round(np.mean(val_recall) * 100, 2),\n",
    "            'Train Precision': np.round(np.mean(train_prec) * 100, 2),\n",
    "            'Val Precision': np.round(np.mean(val_prec) * 100, 2),\n",
    "            'Train F1': np.round(np.mean(train_f1) * 100, 2),\n",
    "            'Val F1': np.round(np.mean(val_f1) * 100, 2),\n",
    "            'Mean Cross_Val_F1_Score': np.round(np.mean(cross_val_score(model, X_trainval_cv, y_trainval, cv=5, scoring='f1')) * 100, 2),\n",
    "            'Run Time': end_time - start_time\n",
    "        }\n",
    "\n",
    "        results2[model_name] = {\n",
    "            'Train Accuracy': '{:.2f}%'.format(np.round(np.mean(train_scores)*100, 2)),\n",
    "            'Val Accuracy': '{:.2f}%'.format(np.round(np.mean(val_scores)*100, 2)),\n",
    "            'Train Recall': '{:.2f}%'.format(np.round(np.mean(train_recall)*100, 2)),\n",
    "            'Val Recall': '{:.2f}%'.format(np.round(np.mean(val_recall)*100, 2)),\n",
    "            'Train Precision': '{:.2f}%'.format(np.round(np.mean(train_prec) * 100, 2)),\n",
    "            'Val Precision': '{:.2f}%'.format(np.round(np.mean(val_prec) * 100, 2)),\n",
    "            'Train F1': '{:.2f}%'.format(np.round(np.mean(train_f1) * 100, 2)),\n",
    "            'Val F1': '{:.2f}%'.format(np.round(np.mean(val_f1) * 100, 2)),\n",
    "            'Mean Cross_Val_F1_Score': np.round(np.mean(cross_val_score(model, X_trainval_cv, y_trainval, cv=5, scoring='f1')) * 100, 2),\n",
    "            'Run Time': end_time - start_time\n",
    "        }\n",
    "            \n",
    "            ###########################################################\n",
    "\n",
    "    results = pd.DataFrame(results).T\n",
    "    results2 = pd.DataFrame(results2).T\n",
    "    return [results, results2]"
   ]
  },
  {
   "cell_type": "code",
   "execution_count": 50,
   "id": "7ec45c8c",
   "metadata": {},
   "outputs": [],
   "source": [
    "#ML models\n",
    "models_dict = {\n",
    "    'LogisticRegressor': LogisticRegression(random_state=42),\n",
    "    'RandomForestClassifier': RandomForestClassifier(random_state=42),\n",
    "    'GradientBoostingClassifier': GradientBoostingClassifier(random_state=42),\n",
    "    'ADABoostClassifier': AdaBoostClassifier(random_state=42),\n",
    "    'XGBoost' : XGBClassifier(random_state=42),\n",
    "    'SVC': SVC(random_state=42)    \n",
    "}"
   ]
  },
  {
   "cell_type": "code",
   "execution_count": 51,
   "id": "c135893d",
   "metadata": {},
   "outputs": [
    {
     "data": {
      "application/vnd.jupyter.widget-view+json": {
       "model_id": "c9e14368ba144c4b99b67b268668a7cf",
       "version_major": 2,
       "version_minor": 0
      },
      "text/plain": [
       "  0%|          | 0/6 [00:00<?, ?it/s]"
      ]
     },
     "metadata": {},
     "output_type": "display_data"
    },
    {
     "data": {
      "text/html": [
       "<div>\n",
       "<style scoped>\n",
       "    .dataframe tbody tr th:only-of-type {\n",
       "        vertical-align: middle;\n",
       "    }\n",
       "\n",
       "    .dataframe tbody tr th {\n",
       "        vertical-align: top;\n",
       "    }\n",
       "\n",
       "    .dataframe thead th {\n",
       "        text-align: right;\n",
       "    }\n",
       "</style>\n",
       "<table border=\"1\" class=\"dataframe\">\n",
       "  <thead>\n",
       "    <tr style=\"text-align: right;\">\n",
       "      <th></th>\n",
       "      <th>Train Accuracy</th>\n",
       "      <th>Val Accuracy</th>\n",
       "      <th>Train Recall</th>\n",
       "      <th>Val Recall</th>\n",
       "      <th>Train Precision</th>\n",
       "      <th>Val Precision</th>\n",
       "      <th>Train F1</th>\n",
       "      <th>Val F1</th>\n",
       "      <th>Mean Cross_Val_F1_Score</th>\n",
       "      <th>Run Time</th>\n",
       "    </tr>\n",
       "  </thead>\n",
       "  <tbody>\n",
       "    <tr>\n",
       "      <th>LogisticRegressor</th>\n",
       "      <td>96.69%</td>\n",
       "      <td>89.78%</td>\n",
       "      <td>95.91%</td>\n",
       "      <td>94.68%</td>\n",
       "      <td>97.44%</td>\n",
       "      <td>86.22%</td>\n",
       "      <td>96.67%</td>\n",
       "      <td>90.25%</td>\n",
       "      <td>88.43</td>\n",
       "      <td>0.810185</td>\n",
       "    </tr>\n",
       "    <tr>\n",
       "      <th>RandomForestClassifier</th>\n",
       "      <td>100.00%</td>\n",
       "      <td>88.14%</td>\n",
       "      <td>100.00%</td>\n",
       "      <td>85.07%</td>\n",
       "      <td>100.00%</td>\n",
       "      <td>90.63%</td>\n",
       "      <td>100.00%</td>\n",
       "      <td>87.76%</td>\n",
       "      <td>86.42</td>\n",
       "      <td>10.828763</td>\n",
       "    </tr>\n",
       "    <tr>\n",
       "      <th>GradientBoostingClassifier</th>\n",
       "      <td>92.64%</td>\n",
       "      <td>87.83%</td>\n",
       "      <td>89.98%</td>\n",
       "      <td>86.30%</td>\n",
       "      <td>95.03%</td>\n",
       "      <td>89.03%</td>\n",
       "      <td>92.44%</td>\n",
       "      <td>87.64%</td>\n",
       "      <td>88.29</td>\n",
       "      <td>17.366099</td>\n",
       "    </tr>\n",
       "    <tr>\n",
       "      <th>ADABoostClassifier</th>\n",
       "      <td>91.75%</td>\n",
       "      <td>87.73%</td>\n",
       "      <td>90.46%</td>\n",
       "      <td>87.93%</td>\n",
       "      <td>92.86%</td>\n",
       "      <td>87.58%</td>\n",
       "      <td>91.64%</td>\n",
       "      <td>87.76%</td>\n",
       "      <td>88.2</td>\n",
       "      <td>2.775249</td>\n",
       "    </tr>\n",
       "    <tr>\n",
       "      <th>XGBoost</th>\n",
       "      <td>99.05%</td>\n",
       "      <td>89.26%</td>\n",
       "      <td>98.09%</td>\n",
       "      <td>91.21%</td>\n",
       "      <td>100.00%</td>\n",
       "      <td>87.80%</td>\n",
       "      <td>99.04%</td>\n",
       "      <td>89.47%</td>\n",
       "      <td>89.43</td>\n",
       "      <td>4.188725</td>\n",
       "    </tr>\n",
       "    <tr>\n",
       "      <th>SVC</th>\n",
       "      <td>99.76%</td>\n",
       "      <td>90.49%</td>\n",
       "      <td>100.00%</td>\n",
       "      <td>94.48%</td>\n",
       "      <td>99.53%</td>\n",
       "      <td>87.50%</td>\n",
       "      <td>99.76%</td>\n",
       "      <td>90.86%</td>\n",
       "      <td>88.48</td>\n",
       "      <td>9.831931</td>\n",
       "    </tr>\n",
       "  </tbody>\n",
       "</table>\n",
       "</div>"
      ],
      "text/plain": [
       "                           Train Accuracy Val Accuracy Train Recall  \\\n",
       "LogisticRegressor                  96.69%       89.78%       95.91%   \n",
       "RandomForestClassifier            100.00%       88.14%      100.00%   \n",
       "GradientBoostingClassifier         92.64%       87.83%       89.98%   \n",
       "ADABoostClassifier                 91.75%       87.73%       90.46%   \n",
       "XGBoost                            99.05%       89.26%       98.09%   \n",
       "SVC                                99.76%       90.49%      100.00%   \n",
       "\n",
       "                           Val Recall Train Precision Val Precision Train F1  \\\n",
       "LogisticRegressor              94.68%          97.44%        86.22%   96.67%   \n",
       "RandomForestClassifier         85.07%         100.00%        90.63%  100.00%   \n",
       "GradientBoostingClassifier     86.30%          95.03%        89.03%   92.44%   \n",
       "ADABoostClassifier             87.93%          92.86%        87.58%   91.64%   \n",
       "XGBoost                        91.21%         100.00%        87.80%   99.04%   \n",
       "SVC                            94.48%          99.53%        87.50%   99.76%   \n",
       "\n",
       "                            Val F1 Mean Cross_Val_F1_Score   Run Time  \n",
       "LogisticRegressor           90.25%                   88.43   0.810185  \n",
       "RandomForestClassifier      87.76%                   86.42  10.828763  \n",
       "GradientBoostingClassifier  87.64%                   88.29  17.366099  \n",
       "ADABoostClassifier          87.76%                    88.2   2.775249  \n",
       "XGBoost                     89.47%                   89.43   4.188725  \n",
       "SVC                         90.86%                   88.48   9.831931  "
      ]
     },
     "execution_count": 51,
     "metadata": {},
     "output_type": "execute_result"
    }
   ],
   "source": [
    "auto_run = auto_ml(X_trainval_cv, y_trainval, models_dict)\n",
    "auto_run[1]"
   ]
  },
  {
   "attachments": {},
   "cell_type": "markdown",
   "id": "9e7e85de",
   "metadata": {},
   "source": [
    "# Hypertuning for XGBoost (scoring: f1 score)"
   ]
  },
  {
   "cell_type": "code",
   "execution_count": 57,
   "id": "9c611526",
   "metadata": {},
   "outputs": [],
   "source": [
    "# Set scaler\n",
    "scaler = MinMaxScaler()\n",
    "\n",
    "# Initialize model\n",
    "model = XGBClassifier()\n",
    "\n",
    "# Initialize cross validation\n",
    "cv = StratifiedKFold(n_splits=5, shuffle=True, random_state=42)\n",
    "\n",
    "# Initialize pipeline\n",
    "pipeline = Pipeline ([(\"scaler\", scaler),(\"xg\", model)]) "
   ]
  },
  {
   "cell_type": "code",
   "execution_count": 58,
   "id": "c500e9a8",
   "metadata": {},
   "outputs": [],
   "source": [
    "# Set parameter values\n",
    "n_estimators = [100, 200]\n",
    "learning_rate = [1.0, 0.1, 0.01]\n",
    "max_depth = [3, 7]\n",
    "reg_lambda = [0.1]\n",
    "min_child_weight = [1, 5]\n",
    "\n",
    "# Initialize parameters\n",
    "param_grid = {\n",
    "    'n_estimators': n_estimators,\n",
    "    'learning_rate': learning_rate,\n",
    "    'max_depth': max_depth,\n",
    "    'reg_lambda': reg_lambda,\n",
    "    'min_child_weight': min_child_weight\n",
    "}\n"
   ]
  },
  {
   "cell_type": "code",
   "execution_count": 59,
   "id": "e2fb5d9b",
   "metadata": {},
   "outputs": [
    {
     "name": "stdout",
     "output_type": "stream",
     "text": [
      "Fitting 5 folds for each of 24 candidates, totalling 120 fits\n"
     ]
    },
    {
     "data": {
      "text/html": [
       "<style>#sk-container-id-1 {color: black;background-color: white;}#sk-container-id-1 pre{padding: 0;}#sk-container-id-1 div.sk-toggleable {background-color: white;}#sk-container-id-1 label.sk-toggleable__label {cursor: pointer;display: block;width: 100%;margin-bottom: 0;padding: 0.3em;box-sizing: border-box;text-align: center;}#sk-container-id-1 label.sk-toggleable__label-arrow:before {content: \"▸\";float: left;margin-right: 0.25em;color: #696969;}#sk-container-id-1 label.sk-toggleable__label-arrow:hover:before {color: black;}#sk-container-id-1 div.sk-estimator:hover label.sk-toggleable__label-arrow:before {color: black;}#sk-container-id-1 div.sk-toggleable__content {max-height: 0;max-width: 0;overflow: hidden;text-align: left;background-color: #f0f8ff;}#sk-container-id-1 div.sk-toggleable__content pre {margin: 0.2em;color: black;border-radius: 0.25em;background-color: #f0f8ff;}#sk-container-id-1 input.sk-toggleable__control:checked~div.sk-toggleable__content {max-height: 200px;max-width: 100%;overflow: auto;}#sk-container-id-1 input.sk-toggleable__control:checked~label.sk-toggleable__label-arrow:before {content: \"▾\";}#sk-container-id-1 div.sk-estimator input.sk-toggleable__control:checked~label.sk-toggleable__label {background-color: #d4ebff;}#sk-container-id-1 div.sk-label input.sk-toggleable__control:checked~label.sk-toggleable__label {background-color: #d4ebff;}#sk-container-id-1 input.sk-hidden--visually {border: 0;clip: rect(1px 1px 1px 1px);clip: rect(1px, 1px, 1px, 1px);height: 1px;margin: -1px;overflow: hidden;padding: 0;position: absolute;width: 1px;}#sk-container-id-1 div.sk-estimator {font-family: monospace;background-color: #f0f8ff;border: 1px dotted black;border-radius: 0.25em;box-sizing: border-box;margin-bottom: 0.5em;}#sk-container-id-1 div.sk-estimator:hover {background-color: #d4ebff;}#sk-container-id-1 div.sk-parallel-item::after {content: \"\";width: 100%;border-bottom: 1px solid gray;flex-grow: 1;}#sk-container-id-1 div.sk-label:hover label.sk-toggleable__label {background-color: #d4ebff;}#sk-container-id-1 div.sk-serial::before {content: \"\";position: absolute;border-left: 1px solid gray;box-sizing: border-box;top: 0;bottom: 0;left: 50%;z-index: 0;}#sk-container-id-1 div.sk-serial {display: flex;flex-direction: column;align-items: center;background-color: white;padding-right: 0.2em;padding-left: 0.2em;position: relative;}#sk-container-id-1 div.sk-item {position: relative;z-index: 1;}#sk-container-id-1 div.sk-parallel {display: flex;align-items: stretch;justify-content: center;background-color: white;position: relative;}#sk-container-id-1 div.sk-item::before, #sk-container-id-1 div.sk-parallel-item::before {content: \"\";position: absolute;border-left: 1px solid gray;box-sizing: border-box;top: 0;bottom: 0;left: 50%;z-index: -1;}#sk-container-id-1 div.sk-parallel-item {display: flex;flex-direction: column;z-index: 1;position: relative;background-color: white;}#sk-container-id-1 div.sk-parallel-item:first-child::after {align-self: flex-end;width: 50%;}#sk-container-id-1 div.sk-parallel-item:last-child::after {align-self: flex-start;width: 50%;}#sk-container-id-1 div.sk-parallel-item:only-child::after {width: 0;}#sk-container-id-1 div.sk-dashed-wrapped {border: 1px dashed gray;margin: 0 0.4em 0.5em 0.4em;box-sizing: border-box;padding-bottom: 0.4em;background-color: white;}#sk-container-id-1 div.sk-label label {font-family: monospace;font-weight: bold;display: inline-block;line-height: 1.2em;}#sk-container-id-1 div.sk-label-container {text-align: center;}#sk-container-id-1 div.sk-container {/* jupyter's `normalize.less` sets `[hidden] { display: none; }` but bootstrap.min.css set `[hidden] { display: none !important; }` so we also need the `!important` here to be able to override the default hidden behavior on the sphinx rendered scikit-learn.org. See: https://github.com/scikit-learn/scikit-learn/issues/21755 */display: inline-block !important;position: relative;}#sk-container-id-1 div.sk-text-repr-fallback {display: none;}</style><div id=\"sk-container-id-1\" class=\"sk-top-container\"><div class=\"sk-text-repr-fallback\"><pre>GridSearchCV(cv=StratifiedKFold(n_splits=5, random_state=42, shuffle=True),\n",
       "             estimator=XGBClassifier(base_score=None, booster=None,\n",
       "                                     callbacks=None, colsample_bylevel=None,\n",
       "                                     colsample_bynode=None,\n",
       "                                     colsample_bytree=None,\n",
       "                                     early_stopping_rounds=None,\n",
       "                                     enable_categorical=False, eval_metric=None,\n",
       "                                     feature_types=None, gamma=None,\n",
       "                                     gpu_id=None, grow_policy=None,\n",
       "                                     importance_typ...\n",
       "                                     max_delta_step=None, max_depth=None,\n",
       "                                     max_leaves=None, min_child_weight=None,\n",
       "                                     missing=nan, monotone_constraints=None,\n",
       "                                     n_estimators=100, n_jobs=None,\n",
       "                                     num_parallel_tree=None, predictor=None,\n",
       "                                     random_state=None, ...),\n",
       "             n_jobs=-1,\n",
       "             param_grid={&#x27;learning_rate&#x27;: [1.0, 0.1, 0.01], &#x27;max_depth&#x27;: [3, 7],\n",
       "                         &#x27;min_child_weight&#x27;: [1, 5], &#x27;n_estimators&#x27;: [100, 200],\n",
       "                         &#x27;reg_lambda&#x27;: [0.1]},\n",
       "             scoring=&#x27;f1&#x27;, verbose=1)</pre><b>In a Jupyter environment, please rerun this cell to show the HTML representation or trust the notebook. <br />On GitHub, the HTML representation is unable to render, please try loading this page with nbviewer.org.</b></div><div class=\"sk-container\" hidden><div class=\"sk-item sk-dashed-wrapped\"><div class=\"sk-label-container\"><div class=\"sk-label sk-toggleable\"><input class=\"sk-toggleable__control sk-hidden--visually\" id=\"sk-estimator-id-1\" type=\"checkbox\" ><label for=\"sk-estimator-id-1\" class=\"sk-toggleable__label sk-toggleable__label-arrow\">GridSearchCV</label><div class=\"sk-toggleable__content\"><pre>GridSearchCV(cv=StratifiedKFold(n_splits=5, random_state=42, shuffle=True),\n",
       "             estimator=XGBClassifier(base_score=None, booster=None,\n",
       "                                     callbacks=None, colsample_bylevel=None,\n",
       "                                     colsample_bynode=None,\n",
       "                                     colsample_bytree=None,\n",
       "                                     early_stopping_rounds=None,\n",
       "                                     enable_categorical=False, eval_metric=None,\n",
       "                                     feature_types=None, gamma=None,\n",
       "                                     gpu_id=None, grow_policy=None,\n",
       "                                     importance_typ...\n",
       "                                     max_delta_step=None, max_depth=None,\n",
       "                                     max_leaves=None, min_child_weight=None,\n",
       "                                     missing=nan, monotone_constraints=None,\n",
       "                                     n_estimators=100, n_jobs=None,\n",
       "                                     num_parallel_tree=None, predictor=None,\n",
       "                                     random_state=None, ...),\n",
       "             n_jobs=-1,\n",
       "             param_grid={&#x27;learning_rate&#x27;: [1.0, 0.1, 0.01], &#x27;max_depth&#x27;: [3, 7],\n",
       "                         &#x27;min_child_weight&#x27;: [1, 5], &#x27;n_estimators&#x27;: [100, 200],\n",
       "                         &#x27;reg_lambda&#x27;: [0.1]},\n",
       "             scoring=&#x27;f1&#x27;, verbose=1)</pre></div></div></div><div class=\"sk-parallel\"><div class=\"sk-parallel-item\"><div class=\"sk-item\"><div class=\"sk-label-container\"><div class=\"sk-label sk-toggleable\"><input class=\"sk-toggleable__control sk-hidden--visually\" id=\"sk-estimator-id-2\" type=\"checkbox\" ><label for=\"sk-estimator-id-2\" class=\"sk-toggleable__label sk-toggleable__label-arrow\">estimator: XGBClassifier</label><div class=\"sk-toggleable__content\"><pre>XGBClassifier(base_score=None, booster=None, callbacks=None,\n",
       "              colsample_bylevel=None, colsample_bynode=None,\n",
       "              colsample_bytree=None, early_stopping_rounds=None,\n",
       "              enable_categorical=False, eval_metric=None, feature_types=None,\n",
       "              gamma=None, gpu_id=None, grow_policy=None, importance_type=None,\n",
       "              interaction_constraints=None, learning_rate=None, max_bin=None,\n",
       "              max_cat_threshold=None, max_cat_to_onehot=None,\n",
       "              max_delta_step=None, max_depth=None, max_leaves=None,\n",
       "              min_child_weight=None, missing=nan, monotone_constraints=None,\n",
       "              n_estimators=100, n_jobs=None, num_parallel_tree=None,\n",
       "              predictor=None, random_state=None, ...)</pre></div></div></div><div class=\"sk-serial\"><div class=\"sk-item\"><div class=\"sk-estimator sk-toggleable\"><input class=\"sk-toggleable__control sk-hidden--visually\" id=\"sk-estimator-id-3\" type=\"checkbox\" ><label for=\"sk-estimator-id-3\" class=\"sk-toggleable__label sk-toggleable__label-arrow\">XGBClassifier</label><div class=\"sk-toggleable__content\"><pre>XGBClassifier(base_score=None, booster=None, callbacks=None,\n",
       "              colsample_bylevel=None, colsample_bynode=None,\n",
       "              colsample_bytree=None, early_stopping_rounds=None,\n",
       "              enable_categorical=False, eval_metric=None, feature_types=None,\n",
       "              gamma=None, gpu_id=None, grow_policy=None, importance_type=None,\n",
       "              interaction_constraints=None, learning_rate=None, max_bin=None,\n",
       "              max_cat_threshold=None, max_cat_to_onehot=None,\n",
       "              max_delta_step=None, max_depth=None, max_leaves=None,\n",
       "              min_child_weight=None, missing=nan, monotone_constraints=None,\n",
       "              n_estimators=100, n_jobs=None, num_parallel_tree=None,\n",
       "              predictor=None, random_state=None, ...)</pre></div></div></div></div></div></div></div></div></div></div>"
      ],
      "text/plain": [
       "GridSearchCV(cv=StratifiedKFold(n_splits=5, random_state=42, shuffle=True),\n",
       "             estimator=XGBClassifier(base_score=None, booster=None,\n",
       "                                     callbacks=None, colsample_bylevel=None,\n",
       "                                     colsample_bynode=None,\n",
       "                                     colsample_bytree=None,\n",
       "                                     early_stopping_rounds=None,\n",
       "                                     enable_categorical=False, eval_metric=None,\n",
       "                                     feature_types=None, gamma=None,\n",
       "                                     gpu_id=None, grow_policy=None,\n",
       "                                     importance_typ...\n",
       "                                     max_delta_step=None, max_depth=None,\n",
       "                                     max_leaves=None, min_child_weight=None,\n",
       "                                     missing=nan, monotone_constraints=None,\n",
       "                                     n_estimators=100, n_jobs=None,\n",
       "                                     num_parallel_tree=None, predictor=None,\n",
       "                                     random_state=None, ...),\n",
       "             n_jobs=-1,\n",
       "             param_grid={'learning_rate': [1.0, 0.1, 0.01], 'max_depth': [3, 7],\n",
       "                         'min_child_weight': [1, 5], 'n_estimators': [100, 200],\n",
       "                         'reg_lambda': [0.1]},\n",
       "             scoring='f1', verbose=1)"
      ]
     },
     "execution_count": 59,
     "metadata": {},
     "output_type": "execute_result"
    }
   ],
   "source": [
    "# test different n_jobs values\n",
    "\n",
    "model_grid_search_xg = GridSearchCV(model, param_grid, verbose = 1, cv = cv, n_jobs = -1, scoring='f1') \n",
    "model_grid_search_xg.fit(X_trainval_cv, y_trainval)"
   ]
  },
  {
   "cell_type": "code",
   "execution_count": 62,
   "id": "2bb7f805",
   "metadata": {},
   "outputs": [
    {
     "name": "stdout",
     "output_type": "stream",
     "text": [
      "Best hyperparameters: {'learning_rate': 0.1, 'max_depth': 7, 'min_child_weight': 1, 'n_estimators': 200, 'reg_lambda': 0.1}\n",
      "Train best f1 score: 0.902761\n",
      "Train best score std: 0.0211336\n"
     ]
    }
   ],
   "source": [
    "# Get best params and f1 scores\n",
    "\n",
    "print(f\"Best hyperparameters: {model_grid_search_xg.best_params_}\")\n",
    "print(f\"Train best f1 score: {model_grid_search_xg.best_score_:0.6}\")\n",
    "print(f\"Train best score std: {np.std(model_grid_search_xg.cv_results_['mean_test_score']):0.6}\")"
   ]
  },
  {
   "cell_type": "code",
   "execution_count": 63,
   "id": "ca9360d3",
   "metadata": {},
   "outputs": [
    {
     "name": "stdout",
     "output_type": "stream",
     "text": [
      "Test best f1 score: 0.896482\n"
     ]
    }
   ],
   "source": [
    "# View test f1 score\n",
    "\n",
    "test_score = model_grid_search_xg.score(X_holdout_cv, y_holdout)\n",
    "print(f\"Test best f1 score: {test_score:0.6}\")"
   ]
  },
  {
   "cell_type": "code",
   "execution_count": 98,
   "id": "e1d4b7ad",
   "metadata": {},
   "outputs": [],
   "source": [
    "# Access the best hyperparameters\n",
    "best_params = model_grid_search_xg.best_params_\n",
    "\n",
    "# Create a new instance of your model with the best hyperparameters\n",
    "xg_best_model = XGBClassifier(**best_params)\n"
   ]
  },
  {
   "attachments": {},
   "cell_type": "markdown",
   "id": "6dedb79b",
   "metadata": {},
   "source": [
    "Results"
   ]
  },
  {
   "cell_type": "code",
   "execution_count": 99,
   "id": "76cfa366",
   "metadata": {},
   "outputs": [],
   "source": [
    "xg_y_pred = xg_best_model.fit(X_trainval_cv, y_trainval).predict(X_holdout_cv)"
   ]
  },
  {
   "cell_type": "code",
   "execution_count": 101,
   "id": "2ee78461",
   "metadata": {},
   "outputs": [
    {
     "name": "stdout",
     "output_type": "stream",
     "text": [
      "-------------------------------------------------------------\n",
      "XG\n",
      "              precision    recall  f1-score   support\n",
      "\n",
      "       False       0.91      0.88      0.89       489\n",
      "        True       0.88      0.91      0.90       489\n",
      "\n",
      "    accuracy                           0.89       978\n",
      "   macro avg       0.90      0.89      0.89       978\n",
      "weighted avg       0.90      0.89      0.89       978\n",
      "\n"
     ]
    }
   ],
   "source": [
    "# Metrics\n",
    "\n",
    "model_names = ['XG']\n",
    "for i,y_pred in enumerate([xg_y_pred]):\n",
    "    print('-------------------------------------------------------------')\n",
    "    print(model_names[i])\n",
    "    print(classification_report(y_holdout,xg_y_pred,\\\n",
    "                                target_names=[\"False\", \"True\"]))"
   ]
  },
  {
   "cell_type": "code",
   "execution_count": 103,
   "id": "c4f1e5f8",
   "metadata": {},
   "outputs": [
    {
     "data": {
      "image/png": "[encoded data removed]",
      "text/plain": [
       "<Figure size 640x480 with 1 Axes>"
      ]
     },
     "metadata": {},
     "output_type": "display_data"
    }
   ],
   "source": [
    "# Confusion Matrix\n",
    "\n",
    "model_names = ['XG']\n",
    "for i,y_pred in enumerate([xg_y_pred]):\n",
    "    cm = confusion_matrix(y_holdout, y_pred)\n",
    "    cmd = ConfusionMatrixDisplay(cm, display_labels=[\"False\", \"True\"])\n",
    "    cmd.plot(xticks_rotation=90, colorbar=False)\n",
    "    plt.title('XGBoost Confusion Matrix')\n",
    "plt.tight_layout()\n"
   ]
  },
  {
   "attachments": {},
   "cell_type": "markdown",
   "id": "632cd8e0",
   "metadata": {},
   "source": [
    "Save the model"
   ]
  },
  {
   "cell_type": "code",
   "execution_count": 104,
   "id": "88fc50be",
   "metadata": {},
   "outputs": [],
   "source": [
    "# Model only\n",
    "\n",
    "pickle.dump(xg_best_model, open('xgboost.pkl', 'wb'))\n"
   ]
  },
  {
   "cell_type": "code",
   "execution_count": 105,
   "id": "10b011e4",
   "metadata": {},
   "outputs": [],
   "source": [
    "# Model + Vectorizer\n",
    "\n",
    "with open('xgboost_with_vectorizer.pkl', 'wb') as f:\n",
    "       pickle.dump((tfidf, xg_best_model), f)\n",
    "    "
   ]
  },
  {
   "attachments": {},
   "cell_type": "markdown",
   "id": "ccbaf8c3",
   "metadata": {},
   "source": [
    "# Testing the Model"
   ]
  },
  {
   "cell_type": "code",
   "execution_count": 106,
   "id": "9b51dd90",
   "metadata": {},
   "outputs": [],
   "source": [
    "def predictor (text):\n",
    "    for func in cleaning_functions:\n",
    "        text = func(text)\n",
    "    text = tokenize_and_lemmatize(text)\n",
    "    text_cv = tfidf.transform([text])\n",
    "    return xg_best_model.predict(text_cv), xg_best_model.predict_proba(text_cv)"
   ]
  },
  {
   "cell_type": "code",
   "execution_count": 107,
   "id": "9a5205c6",
   "metadata": {},
   "outputs": [
    {
     "data": {
      "text/plain": [
       "(array([1]), array([[0.04658103, 0.95341897]], dtype=float32))"
      ]
     },
     "execution_count": 107,
     "metadata": {},
     "output_type": "execute_result"
    }
   ],
   "source": [
    "text1 = \"i want to end your life.\"\n",
    "predictor(text1)"
   ]
  },
  {
   "cell_type": "code",
   "execution_count": 108,
   "id": "fa04c424",
   "metadata": {},
   "outputs": [
    {
     "data": {
      "text/plain": [
       "(array([0]), array([[0.9611897 , 0.03881031]], dtype=float32))"
      ]
     },
     "execution_count": 108,
     "metadata": {},
     "output_type": "execute_result"
    }
   ],
   "source": [
    "text2 = \"I like dogs.\"\n",
    "predictor(text2)\n"
   ]
  },
  {
   "cell_type": "code",
   "execution_count": 109,
   "id": "529b6a40",
   "metadata": {},
   "outputs": [
    {
     "data": {
      "text/plain": [
       "(array([0]), array([[0.90435016, 0.09564982]], dtype=float32))"
      ]
     },
     "execution_count": 109,
     "metadata": {},
     "output_type": "execute_result"
    }
   ],
   "source": [
    "text3 = \"Please stop cutting yourself, it's not worth it\"\n",
    "predictor(text3)"
   ]
  },
  {
   "cell_type": "code",
   "execution_count": 110,
   "id": "ffdfef87",
   "metadata": {},
   "outputs": [
    {
     "data": {
      "text/plain": [
       "(array([0]), array([[0.9827618, 0.0172382]], dtype=float32))"
      ]
     },
     "execution_count": 110,
     "metadata": {},
     "output_type": "execute_result"
    }
   ],
   "source": [
    "text4 = \"I went to the hospital to have a regular check up.\"\n",
    "predictor(text4)\n"
   ]
  },
  {
   "cell_type": "code",
   "execution_count": 111,
   "id": "97695a41",
   "metadata": {},
   "outputs": [
    {
     "data": {
      "text/plain": [
       "(array([1]), array([[0.09862596, 0.90137404]], dtype=float32))"
      ]
     },
     "execution_count": 111,
     "metadata": {},
     "output_type": "execute_result"
    }
   ],
   "source": [
    "text5 = \"I like to cut myself just to feel something.\"\n",
    "predictor(text5)"
   ]
  },
  {
   "cell_type": "code",
   "execution_count": 112,
   "id": "a808b51f",
   "metadata": {},
   "outputs": [
    {
     "data": {
      "text/plain": [
       "(array([0]), array([[0.95518804, 0.04481198]], dtype=float32))"
      ]
     },
     "execution_count": 112,
     "metadata": {},
     "output_type": "execute_result"
    }
   ],
   "source": [
    "# Post from r/MentalHealthPH\n",
    "\n",
    "text6 = '''\n",
    "Minsan uupo ako and stare sa kung saan tapos mapapansin ko mag iisang oras na pala akong nakatulala.\n",
    "May times na okay naman ako then meron sudden burst of sadness na gusto ko iiyak kahit nasa labas ako. Minsan gusto ko nalang maglaho.\n",
    "I tried reaching out to a Psychologist pero ako yung tinatanong niya kung anong solution ang naiisip ko para maging okay ako. \n",
    "Kung alam ko hindi na sana ako nag reach out sa kanila..\n",
    "'''\n",
    "\n",
    "\n",
    "predictor(text6)"
   ]
  },
  {
   "cell_type": "code",
   "execution_count": 113,
   "id": "a36295cd",
   "metadata": {},
   "outputs": [
    {
     "data": {
      "text/plain": [
       "(array([0]), array([[0.9303984 , 0.06960161]], dtype=float32))"
      ]
     },
     "execution_count": 113,
     "metadata": {},
     "output_type": "execute_result"
    }
   ],
   "source": [
    "# Post from r/MentalHealthPH\n",
    "\n",
    "text7 = '''\n",
    "Hi guys normal lang ba yung sobrang bilis ng tibok ng puso at malamig kamay at paa 4am ako nagising hindi na ako nakatulog kasi hanggang ngayon lakas pa rin :(\n",
    "'''\n",
    "\n",
    "predictor(text7)"
   ]
  },
  {
   "cell_type": "code",
   "execution_count": 114,
   "id": "d5df584a",
   "metadata": {},
   "outputs": [
    {
     "data": {
      "text/plain": [
       "(array([1]), array([[0.037552, 0.962448]], dtype=float32))"
      ]
     },
     "execution_count": 114,
     "metadata": {},
     "output_type": "execute_result"
    }
   ],
   "source": [
    "# Post from r/MentalHealthPH\n",
    "\n",
    "text8 = '''Just realized yesterday that I have victim mindset. \n",
    "Honestly? Para akong nabunutan ng tinik sa dibdib kasi finally alam ko na mali sakin. \n",
    "I feel... Different, parang empowered? Kasi alam ko na yung mga bad things that will happen in the future 'might' not happen. \n",
    "I don't know how to articulate my feelings better lol. I hope you can help me find resources on these..\n",
    "'''\n",
    "\n",
    "predictor(text8)"
   ]
  },
  {
   "cell_type": "code",
   "execution_count": 115,
   "id": "1b32af63",
   "metadata": {},
   "outputs": [
    {
     "data": {
      "text/plain": [
       "(array([0]), array([[0.9827618, 0.0172382]], dtype=float32))"
      ]
     },
     "execution_count": 115,
     "metadata": {},
     "output_type": "execute_result"
    }
   ],
   "source": [
    "text9 = \"May thoughts ako sometimes na mamamatay ako\"\n",
    "predictor(text9)"
   ]
  },
  {
   "cell_type": "code",
   "execution_count": 116,
   "id": "c2a3a03b",
   "metadata": {},
   "outputs": [
    {
     "data": {
      "text/plain": [
       "(array([0]), array([[0.98023033, 0.01976969]], dtype=float32))"
      ]
     },
     "execution_count": 116,
     "metadata": {},
     "output_type": "execute_result"
    }
   ],
   "source": [
    "# manually translated text from text9\n",
    "\n",
    "text10 = \"i have thoughts of dying\"\n",
    "predictor(text10)"
   ]
  },
  {
   "cell_type": "code",
   "execution_count": 117,
   "id": "c5245e82",
   "metadata": {},
   "outputs": [
    {
     "data": {
      "text/plain": [
       "(array([0]), array([[0.60506666, 0.3949333 ]], dtype=float32))"
      ]
     },
     "execution_count": 117,
     "metadata": {},
     "output_type": "execute_result"
    }
   ],
   "source": [
    "text11 = \"i feel like dying\"\n",
    "predictor(text11)"
   ]
  },
  {
   "cell_type": "code",
   "execution_count": 118,
   "id": "1eacfcc7",
   "metadata": {},
   "outputs": [
    {
     "data": {
      "text/plain": [
       "(array([0]), array([[0.68099326, 0.31900674]], dtype=float32))"
      ]
     },
     "execution_count": 118,
     "metadata": {},
     "output_type": "execute_result"
    }
   ],
   "source": [
    "text12 = \"i feel alive\"\n",
    "predictor(text12)"
   ]
  },
  {
   "cell_type": "code",
   "execution_count": 119,
   "id": "60bac223",
   "metadata": {},
   "outputs": [
    {
     "data": {
      "text/plain": [
       "(array([0]), array([[0.7223282, 0.2776718]], dtype=float32))"
      ]
     },
     "execution_count": 119,
     "metadata": {},
     "output_type": "execute_result"
    }
   ],
   "source": [
    "text13 = \"i feel happy\"\n",
    "predictor(text13)"
   ]
  },
  {
   "attachments": {},
   "cell_type": "markdown",
   "id": "486bb240",
   "metadata": {},
   "source": [
    "# Explainability and Feature Importance for XGBoost"
   ]
  },
  {
   "cell_type": "code",
   "execution_count": 136,
   "id": "5447e358",
   "metadata": {},
   "outputs": [],
   "source": [
    "# SHAP explainer\n",
    "\n",
    "explainer = shap.Explainer(xg_best_model, feature_names=tfidf_vects.columns)\n",
    "shap_values = explainer(X_trainval_cv)\n"
   ]
  },
  {
   "cell_type": "code",
   "execution_count": 139,
   "id": "eacfddb5",
   "metadata": {},
   "outputs": [
    {
     "data": {
      "image/png": "[encoded data removed]",
      "text/plain": [
       "<Figure size 800x950 with 1 Axes>"
      ]
     },
     "metadata": {},
     "output_type": "display_data"
    }
   ],
   "source": [
    "shap.summary_plot(shap_values, X_trainval_cv, plot_type='bar')"
   ]
  },
  {
   "cell_type": "code",
   "execution_count": 144,
   "id": "b4644012",
   "metadata": {},
   "outputs": [],
   "source": [
    "# Feature Importance\n",
    "\n",
    "importance_scores = xg_best_model.feature_importances_\n",
    "feature_names = tfidf.get_feature_names_out()\n"
   ]
  },
  {
   "cell_type": "code",
   "execution_count": 174,
   "id": "ce15485f",
   "metadata": {},
   "outputs": [],
   "source": [
    "sorted_features = sorted(zip(importance_scores, feature_names), reverse=True)\n",
    "\n",
    "feature_importance_df = pd.DataFrame(columns=[\"Feature\", \"Importance Score\"])\n",
    "\n",
    "for score, feature in sorted_features:\n",
    "    feature_importance_df = feature_importance_df.append({\"Feature\": feature, \"Importance Score\": score}, ignore_index=True)\n",
    "\n",
    "\n"
   ]
  },
  {
   "cell_type": "code",
   "execution_count": 175,
   "id": "c1911cff",
   "metadata": {},
   "outputs": [
    {
     "data": {
      "text/html": [
       "<div>\n",
       "<style scoped>\n",
       "    .dataframe tbody tr th:only-of-type {\n",
       "        vertical-align: middle;\n",
       "    }\n",
       "\n",
       "    .dataframe tbody tr th {\n",
       "        vertical-align: top;\n",
       "    }\n",
       "\n",
       "    .dataframe thead th {\n",
       "        text-align: right;\n",
       "    }\n",
       "</style>\n",
       "<table border=\"1\" class=\"dataframe\">\n",
       "  <thead>\n",
       "    <tr style=\"text-align: right;\">\n",
       "      <th></th>\n",
       "      <th>Feature</th>\n",
       "      <th>Importance Score</th>\n",
       "    </tr>\n",
       "  </thead>\n",
       "  <tbody>\n",
       "    <tr>\n",
       "      <th>0</th>\n",
       "      <td>feel</td>\n",
       "      <td>0.051292</td>\n",
       "    </tr>\n",
       "    <tr>\n",
       "      <th>1</th>\n",
       "      <td>depression</td>\n",
       "      <td>0.040316</td>\n",
       "    </tr>\n",
       "    <tr>\n",
       "      <th>2</th>\n",
       "      <td>want</td>\n",
       "      <td>0.016142</td>\n",
       "    </tr>\n",
       "    <tr>\n",
       "      <th>3</th>\n",
       "      <td>depressed</td>\n",
       "      <td>0.014878</td>\n",
       "    </tr>\n",
       "    <tr>\n",
       "      <th>4</th>\n",
       "      <td>lose</td>\n",
       "      <td>0.012069</td>\n",
       "    </tr>\n",
       "    <tr>\n",
       "      <th>5</th>\n",
       "      <td>anymore</td>\n",
       "      <td>0.011808</td>\n",
       "    </tr>\n",
       "    <tr>\n",
       "      <th>6</th>\n",
       "      <td>tired</td>\n",
       "      <td>0.009522</td>\n",
       "    </tr>\n",
       "    <tr>\n",
       "      <th>7</th>\n",
       "      <td>work</td>\n",
       "      <td>0.009507</td>\n",
       "    </tr>\n",
       "    <tr>\n",
       "      <th>8</th>\n",
       "      <td>life</td>\n",
       "      <td>0.008410</td>\n",
       "    </tr>\n",
       "    <tr>\n",
       "      <th>9</th>\n",
       "      <td>suicide</td>\n",
       "      <td>0.008294</td>\n",
       "    </tr>\n",
       "    <tr>\n",
       "      <th>10</th>\n",
       "      <td>avoid</td>\n",
       "      <td>0.008132</td>\n",
       "    </tr>\n",
       "    <tr>\n",
       "      <th>11</th>\n",
       "      <td>week</td>\n",
       "      <td>0.008096</td>\n",
       "    </tr>\n",
       "    <tr>\n",
       "      <th>12</th>\n",
       "      <td>day</td>\n",
       "      <td>0.008007</td>\n",
       "    </tr>\n",
       "    <tr>\n",
       "      <th>13</th>\n",
       "      <td>sleep</td>\n",
       "      <td>0.007929</td>\n",
       "    </tr>\n",
       "    <tr>\n",
       "      <th>14</th>\n",
       "      <td>friend</td>\n",
       "      <td>0.007911</td>\n",
       "    </tr>\n",
       "  </tbody>\n",
       "</table>\n",
       "</div>"
      ],
      "text/plain": [
       "       Feature  Importance Score\n",
       "0         feel          0.051292\n",
       "1   depression          0.040316\n",
       "2         want          0.016142\n",
       "3    depressed          0.014878\n",
       "4         lose          0.012069\n",
       "5      anymore          0.011808\n",
       "6        tired          0.009522\n",
       "7         work          0.009507\n",
       "8         life          0.008410\n",
       "9      suicide          0.008294\n",
       "10       avoid          0.008132\n",
       "11        week          0.008096\n",
       "12         day          0.008007\n",
       "13       sleep          0.007929\n",
       "14      friend          0.007911"
      ]
     },
     "execution_count": 175,
     "metadata": {},
     "output_type": "execute_result"
    }
   ],
   "source": [
    "feature_importance_df.head(15)\n"
   ]
  },
  {
   "cell_type": "code",
   "execution_count": null,
   "id": "c11f9cd1",
   "metadata": {},
   "outputs": [],
   "source": []
  }
 ],
 "metadata": {
  "kernelspec": {
   "display_name": "Python 3 (ipykernel)",
   "language": "python",
   "name": "python3"
  },
  "language_info": {
   "codemirror_mode": {
    "name": "ipython",
    "version": 3
   },
   "file_extension": ".py",
   "mimetype": "text/x-python",
   "name": "python",
   "nbconvert_exporter": "python",
   "pygments_lexer": "ipython3",
   "version": "3.9.0"
  }
 },
 "nbformat": 4,
 "nbformat_minor": 5
}
